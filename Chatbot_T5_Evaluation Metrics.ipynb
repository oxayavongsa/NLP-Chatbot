{
 "cells": [
  {
   "cell_type": "markdown",
   "id": "gWGLkxdaLRHE",
   "metadata": {
    "id": "gWGLkxdaLRHE"
   },
   "source": [
    "## Install Libraries, Import Libraries, Collect Data"
   ]
  },
  {
   "cell_type": "code",
   "execution_count": 17,
   "id": "8yeMXjFPDbG7",
   "metadata": {
    "colab": {
     "base_uri": "https://localhost:8080/",
     "height": 0
    },
    "id": "8yeMXjFPDbG7",
    "outputId": "35fe286a-58b0-43aa-ddf0-1ca6e71125f1"
   },
   "outputs": [
    {
     "name": "stdout",
     "output_type": "stream",
     "text": [
      "Dataset URL: https://www.kaggle.com/datasets/rajathmc/cornell-moviedialog-corpus\n",
      "License(s): CC0-1.0\n",
      "cornell-moviedialog-corpus.zip: Skipping, found more recently modified local copy (use --force to force download)\n",
      "Archive:  cornell-moviedialog-corpus.zip\n",
      "replace .DS_Store? [y]es, [n]o, [A]ll, [N]one, [r]ename: A\n",
      "  inflating: .DS_Store               \n",
      "  inflating: README.txt              \n",
      "  inflating: chameleons.pdf          \n",
      "  inflating: movie_characters_metadata.txt  \n",
      "  inflating: movie_conversations.txt  \n",
      "  inflating: movie_lines.txt         \n",
      "  inflating: movie_titles_metadata.txt  \n",
      "  inflating: raw_script_urls.txt     \n"
     ]
    }
   ],
   "source": [
    "# Download directly from Kaggle - Thai is using this 'code block' for file path\n",
    "# !pip install kaggle\n",
    "import os\n",
    "import pandas as pd\n",
    "\n",
    "# Set Kaggle API credentials\n",
    "os.environ['KAGGLE_USERNAME'] = 'outhaixayavongsa'  # Replace with your Kaggle username\n",
    "os.environ['KAGGLE_KEY'] = '013bebdbf0776ed704f846ef0b3b3381'  # Replace with your Kaggle API key\n",
    "\n",
    "# Download the dataset\n",
    "!kaggle datasets download -d rajathmc/cornell-moviedialog-corpus\n",
    "\n",
    "# Unzip the dataset (A for All and Press Enter))\n",
    "!unzip cornell-moviedialog-corpus.zip"
   ]
  },
  {
   "cell_type": "code",
   "execution_count": 18,
   "id": "icQcxa97K9Ay",
   "metadata": {
    "colab": {
     "base_uri": "https://localhost:8080/",
     "height": 0
    },
    "id": "icQcxa97K9Ay",
    "outputId": "5c59ee94-524b-448b-9075-2c123209af9f"
   },
   "outputs": [
    {
     "data": {
      "text/plain": [
       "('Extracted files:',\n",
       " ['.config',\n",
       "  '.DS_Store',\n",
       "  'movie_titles_metadata.txt',\n",
       "  'raw_script_urls.txt',\n",
       "  'chameleons.pdf',\n",
       "  'README.txt',\n",
       "  'movie_conversations.txt',\n",
       "  'cornell-moviedialog-corpus.zip',\n",
       "  'movie_characters_metadata.txt',\n",
       "  'movie_lines.txt',\n",
       "  'sample_data'])"
      ]
     },
     "execution_count": 18,
     "metadata": {},
     "output_type": "execute_result"
    }
   ],
   "source": [
    "# List files to ensure they were extracted from kaggle\n",
    "extracted_files = os.listdir()\n",
    "\"Extracted files:\", extracted_files"
   ]
  },
  {
   "cell_type": "markdown",
   "id": "AtAY_EdMLqXx",
   "metadata": {
    "id": "AtAY_EdMLqXx"
   },
   "source": [
    "## Load and Explore Data"
   ]
  },
  {
   "cell_type": "code",
   "execution_count": 1,
   "id": "51d61db5-d3f9-4dd4-b6ab-e7c801e2f92f",
   "metadata": {
    "id": "51d61db5-d3f9-4dd4-b6ab-e7c801e2f92f"
   },
   "outputs": [],
   "source": [
    "# Individual Team member's file path\n",
    "import os\n",
    "import pandas as pd\n",
    "\n",
    "# Define the folder path\n",
    "# folder_path = 'C:/MS_AAI/CornellMovie/' #Anand data path file\n",
    "folder_path = 'C:/Users/Saad/Desktop/Saad Learnings/Python/School Python/Natural Language Processing/Project/CornellMovie/' #Saad data path file\n",
    "#folder_path = './' # Thai data path file"
   ]
  },
  {
   "cell_type": "code",
   "execution_count": 2,
   "id": "-Dgu7cY-HM1D",
   "metadata": {
    "colab": {
     "base_uri": "https://localhost:8080/",
     "height": 0
    },
    "id": "-Dgu7cY-HM1D",
    "outputId": "d98ccf18-79f3-4ed7-83fc-15f66db22eef"
   },
   "outputs": [
    {
     "name": "stdout",
     "output_type": "stream",
     "text": [
      "Data loaded successfully!\n"
     ]
    }
   ],
   "source": [
    "# Initialize a dictionary to store file content\n",
    "data = {}\n",
    "\n",
    "# Loop through each file in the directory\n",
    "for file_name in os.listdir(folder_path):\n",
    "    if file_name.endswith('.txt'):\n",
    "        file_path = os.path.join(folder_path, file_name)\n",
    "        with open(file_path, 'r', encoding='utf-8', errors='replace') as file:\n",
    "            content = file.readlines()  # Read each line\n",
    "        data[file_name] = content\n",
    "\n",
    "df = pd.DataFrame(dict([(k, pd.Series(v)) for k, v in data.items()]))\n",
    "\n",
    "# Load completed\n",
    "print(\"Data loaded successfully!\")"
   ]
  },
  {
   "cell_type": "code",
   "execution_count": 3,
   "id": "f7572640-f552-4870-a7cd-421ad09986b3",
   "metadata": {
    "colab": {
     "base_uri": "https://localhost:8080/",
     "height": 1077
    },
    "id": "f7572640-f552-4870-a7cd-421ad09986b3",
    "outputId": "ea460a7b-864d-4311-bbde-822f5e96d5cb"
   },
   "outputs": [
    {
     "name": "stdout",
     "output_type": "stream",
     "text": [
      "1. Basic Information:\n",
      "Number of rows: 304713\n",
      "Number of columns: 6\n",
      "\n",
      "2. Data Types:\n",
      "movie_characters_metadata.txt    object\n",
      "movie_conversations.txt          object\n",
      "movie_lines.txt                  object\n",
      "movie_titles_metadata.txt        object\n",
      "raw_script_urls.txt              object\n",
      "README.txt                       object\n",
      "dtype: object\n",
      "\n",
      "3. Missing Values:\n",
      "movie_characters_metadata.txt    295678\n",
      "movie_conversations.txt          221616\n",
      "movie_lines.txt                       0\n",
      "movie_titles_metadata.txt        304096\n",
      "raw_script_urls.txt              304096\n",
      "README.txt                       304600\n",
      "dtype: int64\n",
      "\n",
      "4. Descriptive Statistics:\n"
     ]
    },
    {
     "data": {
      "text/html": [
       "<div>\n",
       "<style scoped>\n",
       "    .dataframe tbody tr th:only-of-type {\n",
       "        vertical-align: middle;\n",
       "    }\n",
       "\n",
       "    .dataframe tbody tr th {\n",
       "        vertical-align: top;\n",
       "    }\n",
       "\n",
       "    .dataframe thead th {\n",
       "        text-align: right;\n",
       "    }\n",
       "</style>\n",
       "<table border=\"1\" class=\"dataframe\">\n",
       "  <thead>\n",
       "    <tr style=\"text-align: right;\">\n",
       "      <th></th>\n",
       "      <th>count</th>\n",
       "      <th>unique</th>\n",
       "      <th>top</th>\n",
       "      <th>freq</th>\n",
       "    </tr>\n",
       "  </thead>\n",
       "  <tbody>\n",
       "    <tr>\n",
       "      <th>movie_characters_metadata.txt</th>\n",
       "      <td>9035</td>\n",
       "      <td>9035</td>\n",
       "      <td>u0 +++$+++ BIANCA +++$+++ m0 +++$+++ 10 things...</td>\n",
       "      <td>1</td>\n",
       "    </tr>\n",
       "    <tr>\n",
       "      <th>movie_conversations.txt</th>\n",
       "      <td>83097</td>\n",
       "      <td>83097</td>\n",
       "      <td>u0 +++$+++ u2 +++$+++ m0 +++$+++ ['L194', 'L19...</td>\n",
       "      <td>1</td>\n",
       "    </tr>\n",
       "    <tr>\n",
       "      <th>movie_lines.txt</th>\n",
       "      <td>304713</td>\n",
       "      <td>304713</td>\n",
       "      <td>L1045 +++$+++ u0 +++$+++ m0 +++$+++ BIANCA +++...</td>\n",
       "      <td>1</td>\n",
       "    </tr>\n",
       "    <tr>\n",
       "      <th>movie_titles_metadata.txt</th>\n",
       "      <td>617</td>\n",
       "      <td>617</td>\n",
       "      <td>m0 +++$+++ 10 things i hate about you +++$+++ ...</td>\n",
       "      <td>1</td>\n",
       "    </tr>\n",
       "    <tr>\n",
       "      <th>raw_script_urls.txt</th>\n",
       "      <td>617</td>\n",
       "      <td>617</td>\n",
       "      <td>m0 +++$+++ 10 things i hate about you +++$+++ ...</td>\n",
       "      <td>1</td>\n",
       "    </tr>\n",
       "    <tr>\n",
       "      <th>README.txt</th>\n",
       "      <td>113</td>\n",
       "      <td>85</td>\n",
       "      <td>\\n</td>\n",
       "      <td>25</td>\n",
       "    </tr>\n",
       "  </tbody>\n",
       "</table>\n",
       "</div>"
      ],
      "text/plain": [
       "                                count  unique  \\\n",
       "movie_characters_metadata.txt    9035    9035   \n",
       "movie_conversations.txt         83097   83097   \n",
       "movie_lines.txt                304713  304713   \n",
       "movie_titles_metadata.txt         617     617   \n",
       "raw_script_urls.txt               617     617   \n",
       "README.txt                        113      85   \n",
       "\n",
       "                                                                             top  \\\n",
       "movie_characters_metadata.txt  u0 +++$+++ BIANCA +++$+++ m0 +++$+++ 10 things...   \n",
       "movie_conversations.txt        u0 +++$+++ u2 +++$+++ m0 +++$+++ ['L194', 'L19...   \n",
       "movie_lines.txt                L1045 +++$+++ u0 +++$+++ m0 +++$+++ BIANCA +++...   \n",
       "movie_titles_metadata.txt      m0 +++$+++ 10 things i hate about you +++$+++ ...   \n",
       "raw_script_urls.txt            m0 +++$+++ 10 things i hate about you +++$+++ ...   \n",
       "README.txt                                                                    \\n   \n",
       "\n",
       "                              freq  \n",
       "movie_characters_metadata.txt    1  \n",
       "movie_conversations.txt          1  \n",
       "movie_lines.txt                  1  \n",
       "movie_titles_metadata.txt        1  \n",
       "raw_script_urls.txt              1  \n",
       "README.txt                      25  "
      ]
     },
     "metadata": {},
     "output_type": "display_data"
    },
    {
     "name": "stdout",
     "output_type": "stream",
     "text": [
      "\n",
      "5. Sample Data (first 5 rows):\n"
     ]
    },
    {
     "data": {
      "text/html": [
       "<div>\n",
       "<style scoped>\n",
       "    .dataframe tbody tr th:only-of-type {\n",
       "        vertical-align: middle;\n",
       "    }\n",
       "\n",
       "    .dataframe tbody tr th {\n",
       "        vertical-align: top;\n",
       "    }\n",
       "\n",
       "    .dataframe thead th {\n",
       "        text-align: right;\n",
       "    }\n",
       "</style>\n",
       "<table border=\"1\" class=\"dataframe\">\n",
       "  <thead>\n",
       "    <tr style=\"text-align: right;\">\n",
       "      <th></th>\n",
       "      <th>movie_characters_metadata.txt</th>\n",
       "      <th>movie_conversations.txt</th>\n",
       "      <th>movie_lines.txt</th>\n",
       "      <th>movie_titles_metadata.txt</th>\n",
       "      <th>raw_script_urls.txt</th>\n",
       "      <th>README.txt</th>\n",
       "    </tr>\n",
       "  </thead>\n",
       "  <tbody>\n",
       "    <tr>\n",
       "      <th>0</th>\n",
       "      <td>u0 +++$+++ BIANCA +++$+++ m0 +++$+++ 10 things...</td>\n",
       "      <td>u0 +++$+++ u2 +++$+++ m0 +++$+++ ['L194', 'L19...</td>\n",
       "      <td>L1045 +++$+++ u0 +++$+++ m0 +++$+++ BIANCA +++...</td>\n",
       "      <td>m0 +++$+++ 10 things i hate about you +++$+++ ...</td>\n",
       "      <td>m0 +++$+++ 10 things i hate about you +++$+++ ...</td>\n",
       "      <td>Cornell Movie-Dialogs Corpus\\n</td>\n",
       "    </tr>\n",
       "    <tr>\n",
       "      <th>1</th>\n",
       "      <td>u1 +++$+++ BRUCE +++$+++ m0 +++$+++ 10 things ...</td>\n",
       "      <td>u0 +++$+++ u2 +++$+++ m0 +++$+++ ['L198', 'L19...</td>\n",
       "      <td>L1044 +++$+++ u2 +++$+++ m0 +++$+++ CAMERON ++...</td>\n",
       "      <td>m1 +++$+++ 1492: conquest of paradise +++$+++ ...</td>\n",
       "      <td>m1 +++$+++ 1492: conquest of paradise +++$+++ ...</td>\n",
       "      <td>\\n</td>\n",
       "    </tr>\n",
       "    <tr>\n",
       "      <th>2</th>\n",
       "      <td>u2 +++$+++ CAMERON +++$+++ m0 +++$+++ 10 thing...</td>\n",
       "      <td>u0 +++$+++ u2 +++$+++ m0 +++$+++ ['L200', 'L20...</td>\n",
       "      <td>L985 +++$+++ u0 +++$+++ m0 +++$+++ BIANCA +++$...</td>\n",
       "      <td>m2 +++$+++ 15 minutes +++$+++ 2001 +++$+++ 6.1...</td>\n",
       "      <td>m2 +++$+++ 15 minutes +++$+++ http://www.daily...</td>\n",
       "      <td>Distributed together with:\\n</td>\n",
       "    </tr>\n",
       "    <tr>\n",
       "      <th>3</th>\n",
       "      <td>u3 +++$+++ CHASTITY +++$+++ m0 +++$+++ 10 thin...</td>\n",
       "      <td>u0 +++$+++ u2 +++$+++ m0 +++$+++ ['L204', 'L20...</td>\n",
       "      <td>L984 +++$+++ u2 +++$+++ m0 +++$+++ CAMERON +++...</td>\n",
       "      <td>m3 +++$+++ 2001: a space odyssey +++$+++ 1968 ...</td>\n",
       "      <td>m3 +++$+++ 2001: a space odyssey +++$+++ http:...</td>\n",
       "      <td>\\n</td>\n",
       "    </tr>\n",
       "    <tr>\n",
       "      <th>4</th>\n",
       "      <td>u4 +++$+++ JOEY +++$+++ m0 +++$+++ 10 things i...</td>\n",
       "      <td>u0 +++$+++ u2 +++$+++ m0 +++$+++ ['L207', 'L20...</td>\n",
       "      <td>L925 +++$+++ u0 +++$+++ m0 +++$+++ BIANCA +++$...</td>\n",
       "      <td>m4 +++$+++ 48 hrs. +++$+++ 1982 +++$+++ 6.90 +...</td>\n",
       "      <td>m4 +++$+++ 48 hrs. +++$+++ http://www.awesomef...</td>\n",
       "      <td>\"Chameleons in imagined conversations: A new a...</td>\n",
       "    </tr>\n",
       "  </tbody>\n",
       "</table>\n",
       "</div>"
      ],
      "text/plain": [
       "                       movie_characters_metadata.txt  \\\n",
       "0  u0 +++$+++ BIANCA +++$+++ m0 +++$+++ 10 things...   \n",
       "1  u1 +++$+++ BRUCE +++$+++ m0 +++$+++ 10 things ...   \n",
       "2  u2 +++$+++ CAMERON +++$+++ m0 +++$+++ 10 thing...   \n",
       "3  u3 +++$+++ CHASTITY +++$+++ m0 +++$+++ 10 thin...   \n",
       "4  u4 +++$+++ JOEY +++$+++ m0 +++$+++ 10 things i...   \n",
       "\n",
       "                             movie_conversations.txt  \\\n",
       "0  u0 +++$+++ u2 +++$+++ m0 +++$+++ ['L194', 'L19...   \n",
       "1  u0 +++$+++ u2 +++$+++ m0 +++$+++ ['L198', 'L19...   \n",
       "2  u0 +++$+++ u2 +++$+++ m0 +++$+++ ['L200', 'L20...   \n",
       "3  u0 +++$+++ u2 +++$+++ m0 +++$+++ ['L204', 'L20...   \n",
       "4  u0 +++$+++ u2 +++$+++ m0 +++$+++ ['L207', 'L20...   \n",
       "\n",
       "                                     movie_lines.txt  \\\n",
       "0  L1045 +++$+++ u0 +++$+++ m0 +++$+++ BIANCA +++...   \n",
       "1  L1044 +++$+++ u2 +++$+++ m0 +++$+++ CAMERON ++...   \n",
       "2  L985 +++$+++ u0 +++$+++ m0 +++$+++ BIANCA +++$...   \n",
       "3  L984 +++$+++ u2 +++$+++ m0 +++$+++ CAMERON +++...   \n",
       "4  L925 +++$+++ u0 +++$+++ m0 +++$+++ BIANCA +++$...   \n",
       "\n",
       "                           movie_titles_metadata.txt  \\\n",
       "0  m0 +++$+++ 10 things i hate about you +++$+++ ...   \n",
       "1  m1 +++$+++ 1492: conquest of paradise +++$+++ ...   \n",
       "2  m2 +++$+++ 15 minutes +++$+++ 2001 +++$+++ 6.1...   \n",
       "3  m3 +++$+++ 2001: a space odyssey +++$+++ 1968 ...   \n",
       "4  m4 +++$+++ 48 hrs. +++$+++ 1982 +++$+++ 6.90 +...   \n",
       "\n",
       "                                 raw_script_urls.txt  \\\n",
       "0  m0 +++$+++ 10 things i hate about you +++$+++ ...   \n",
       "1  m1 +++$+++ 1492: conquest of paradise +++$+++ ...   \n",
       "2  m2 +++$+++ 15 minutes +++$+++ http://www.daily...   \n",
       "3  m3 +++$+++ 2001: a space odyssey +++$+++ http:...   \n",
       "4  m4 +++$+++ 48 hrs. +++$+++ http://www.awesomef...   \n",
       "\n",
       "                                          README.txt  \n",
       "0                     Cornell Movie-Dialogs Corpus\\n  \n",
       "1                                                 \\n  \n",
       "2                       Distributed together with:\\n  \n",
       "3                                                 \\n  \n",
       "4  \"Chameleons in imagined conversations: A new a...  "
      ]
     },
     "metadata": {},
     "output_type": "display_data"
    }
   ],
   "source": [
    "print(\"1. Basic Information:\")\n",
    "print(f\"Number of rows: {df.shape[0]}\")\n",
    "print(f\"Number of columns: {df.shape[1]}\")\n",
    "print(\"\\n2. Data Types:\")\n",
    "print(df.dtypes)\n",
    "print(\"\\n3. Missing Values:\")\n",
    "print(df.isnull().sum())\n",
    "print(\"\\n4. Descriptive Statistics:\")\n",
    "display(df.describe().T)\n",
    "print(\"\\n5. Sample Data (first 5 rows):\")\n",
    "display(df.head())"
   ]
  },
  {
   "cell_type": "markdown",
   "id": "4ed2889a-b65a-49b5-b41c-87ca6182bebb",
   "metadata": {
    "id": "4ed2889a-b65a-49b5-b41c-87ca6182bebb"
   },
   "source": [
    "## Data Clean and Exploratory Data Analysis"
   ]
  },
  {
   "cell_type": "code",
   "execution_count": 4,
   "id": "738b39c9-b079-4d30-a880-ac8dc9835502",
   "metadata": {
    "id": "738b39c9-b079-4d30-a880-ac8dc9835502"
   },
   "outputs": [],
   "source": [
    "import re\n",
    "import matplotlib.pyplot as plt\n",
    "from collections import Counter"
   ]
  },
  {
   "cell_type": "code",
   "execution_count": 5,
   "id": "b6ee5b80-1a53-4d32-9f83-0b2362c3f8f0",
   "metadata": {
    "id": "b6ee5b80-1a53-4d32-9f83-0b2362c3f8f0"
   },
   "outputs": [],
   "source": [
    "# Focusing on Loading movie_lines.txt and movie_conversations.txt where we will parse the files\n",
    "lines_file = './CornellMovie/movie_lines.txt'  #Saad data path file\n",
    "conversations_file = './CornellMovie/movie_conversations.txt' #Saad data path file"
   ]
  },
  {
   "cell_type": "code",
   "execution_count": 6,
   "id": "8_xDDgnKz9h3",
   "metadata": {
    "id": "8_xDDgnKz9h3"
   },
   "outputs": [],
   "source": [
    "# Thai used this file path for Kaggle download\n",
    "#lines_file = 'movie_lines.txt'\n",
    "#conversations_file = 'movie_conversations.txt'"
   ]
  },
  {
   "cell_type": "code",
   "execution_count": 7,
   "id": "8127e366-a378-44b6-9355-eab276b9f2d0",
   "metadata": {
    "id": "8127e366-a378-44b6-9355-eab276b9f2d0"
   },
   "outputs": [],
   "source": [
    "# Function to parse movie_lines.txt\n",
    "def parse_lines(lines_file):\n",
    "    lines = {}\n",
    "    character_names = {}\n",
    "    with open(lines_file, 'r', encoding='utf-8', errors='replace') as f:\n",
    "        for line in f:\n",
    "            parts = line.split(\" +++$+++ \")\n",
    "            if len(parts) == 5:\n",
    "                line_id = parts[0]\n",
    "                character_name = parts[3]  # Extract character name\n",
    "                text = parts[4].strip()\n",
    "                lines[line_id] = text\n",
    "                character_names[line_id] = character_name  # Store character names\n",
    "    return lines, character_names\n",
    "\n",
    "lines, character_names = parse_lines(lines_file)\n",
    "\n",
    "# Then, construct the DataFrame\n",
    "lines_df = pd.DataFrame({\n",
    "    'LineID': list(lines.keys()),\n",
    "    'Text': list(lines.values()),\n",
    "    'CharacterName': [character_names[line_id] for line_id in lines.keys()]  # Add CharacterName\n",
    "})\n",
    "\n",
    "# No need to load or process the other metadata or script files"
   ]
  },
  {
   "cell_type": "code",
   "execution_count": 8,
   "id": "cr-HyzGY6MIb",
   "metadata": {
    "colab": {
     "base_uri": "https://localhost:8080/",
     "height": 390
    },
    "id": "cr-HyzGY6MIb",
    "outputId": "eaaccc3e-f8c6-489b-bb6a-3ec2844711d0"
   },
   "outputs": [
    {
     "name": "stdout",
     "output_type": "stream",
     "text": [
      "<class 'pandas.core.frame.DataFrame'>\n",
      "RangeIndex: 304713 entries, 0 to 304712\n",
      "Data columns (total 3 columns):\n",
      " #   Column         Non-Null Count   Dtype \n",
      "---  ------         --------------   ----- \n",
      " 0   LineID         304713 non-null  object\n",
      " 1   Text           304713 non-null  object\n",
      " 2   CharacterName  304713 non-null  object\n",
      "dtypes: object(3)\n",
      "memory usage: 7.0+ MB\n",
      "LineID           0\n",
      "Text             0\n",
      "CharacterName    0\n",
      "dtype: int64\n"
     ]
    },
    {
     "data": {
      "text/html": [
       "<div>\n",
       "<style scoped>\n",
       "    .dataframe tbody tr th:only-of-type {\n",
       "        vertical-align: middle;\n",
       "    }\n",
       "\n",
       "    .dataframe tbody tr th {\n",
       "        vertical-align: top;\n",
       "    }\n",
       "\n",
       "    .dataframe thead th {\n",
       "        text-align: right;\n",
       "    }\n",
       "</style>\n",
       "<table border=\"1\" class=\"dataframe\">\n",
       "  <thead>\n",
       "    <tr style=\"text-align: right;\">\n",
       "      <th></th>\n",
       "      <th>LineID</th>\n",
       "      <th>Text</th>\n",
       "      <th>CharacterName</th>\n",
       "    </tr>\n",
       "  </thead>\n",
       "  <tbody>\n",
       "    <tr>\n",
       "      <th>0</th>\n",
       "      <td>L1045</td>\n",
       "      <td>They do not!</td>\n",
       "      <td>BIANCA</td>\n",
       "    </tr>\n",
       "    <tr>\n",
       "      <th>1</th>\n",
       "      <td>L1044</td>\n",
       "      <td>They do to!</td>\n",
       "      <td>CAMERON</td>\n",
       "    </tr>\n",
       "    <tr>\n",
       "      <th>2</th>\n",
       "      <td>L985</td>\n",
       "      <td>I hope so.</td>\n",
       "      <td>BIANCA</td>\n",
       "    </tr>\n",
       "    <tr>\n",
       "      <th>3</th>\n",
       "      <td>L984</td>\n",
       "      <td>She okay?</td>\n",
       "      <td>CAMERON</td>\n",
       "    </tr>\n",
       "    <tr>\n",
       "      <th>4</th>\n",
       "      <td>L925</td>\n",
       "      <td>Let's go.</td>\n",
       "      <td>BIANCA</td>\n",
       "    </tr>\n",
       "  </tbody>\n",
       "</table>\n",
       "</div>"
      ],
      "text/plain": [
       "  LineID          Text CharacterName\n",
       "0  L1045  They do not!        BIANCA\n",
       "1  L1044   They do to!       CAMERON\n",
       "2   L985    I hope so.        BIANCA\n",
       "3   L984     She okay?       CAMERON\n",
       "4   L925     Let's go.        BIANCA"
      ]
     },
     "execution_count": 8,
     "metadata": {},
     "output_type": "execute_result"
    }
   ],
   "source": [
    "lines_df.info()  # Check for missing values and data types\n",
    "print(lines_df.isnull().sum())\n",
    "lines_df.head()  # Check if the data looks correct"
   ]
  },
  {
   "cell_type": "code",
   "execution_count": 9,
   "id": "471e24aa-0b1a-4b13-9d09-c3a4a4417f1d",
   "metadata": {
    "colab": {
     "base_uri": "https://localhost:8080/",
     "height": 0
    },
    "id": "471e24aa-0b1a-4b13-9d09-c3a4a4417f1d",
    "outputId": "9fbe8d2b-0449-46db-fab3-6961027076ca"
   },
   "outputs": [],
   "source": [
    "# Function to parse movie_conversations.txt\n",
    "def parse_conversations(conversations_file):\n",
    "    conversations = []\n",
    "    with open(conversations_file, 'r', encoding='utf-8', errors='replace') as f:\n",
    "        for line in f:\n",
    "            parts = line.split(\" +++$+++ \")\n",
    "            if len(parts) == 4:\n",
    "                line_ids = eval(parts[3])  # This is a list of line IDs in a conversation\n",
    "                conversations.append(line_ids)\n",
    "    return conversations\n",
    "\n",
    "# Call the function and store the result in the conversations variable\n",
    "conversations = parse_conversations(conversations_file)\n",
    "\n",
    "# Now you can print the conversations variable\n",
    "#print(conversations)"
   ]
  },
  {
   "cell_type": "code",
   "execution_count": 10,
   "id": "f77018c4-d584-4650-a6c8-75feb0199b40",
   "metadata": {
    "colab": {
     "base_uri": "https://localhost:8080/",
     "height": 0
    },
    "id": "f77018c4-d584-4650-a6c8-75feb0199b40",
    "outputId": "79591cf9-4a28-428b-f413-d5242a5af92d"
   },
   "outputs": [
    {
     "name": "stdout",
     "output_type": "stream",
     "text": [
      "Input: Can we make this quick?  Roxanne Korrine and Andrew Barrett are having an incredibly horrendous public break- up on the quad.  Again.\n",
      "Response: Well, I thought we'd start with pronunciation, if that's okay with you.\n",
      "\n",
      "Input: Well, I thought we'd start with pronunciation, if that's okay with you.\n",
      "Response: Not the hacking and gagging and spitting part.  Please.\n",
      "\n",
      "Input: Not the hacking and gagging and spitting part.  Please.\n",
      "Response: Okay... then how 'bout we try out some French cuisine.  Saturday?  Night?\n",
      "\n",
      "Input: You're asking me out.  That's so cute. What's your name again?\n",
      "Response: Forget it.\n",
      "\n",
      "Input: No, no, it's my fault -- we didn't have a proper introduction ---\n",
      "Response: Cameron.\n",
      "\n"
     ]
    }
   ],
   "source": [
    "# Function to create dialog pairs\n",
    "def create_dialog_pairs(conversations, lines):\n",
    "    dialog_pairs = []\n",
    "    for conv in conversations:\n",
    "        for i in range(len(conv) - 1):\n",
    "            input_line = lines.get(conv[i], \"\")\n",
    "            response_line = lines.get(conv[i + 1], \"\")\n",
    "            if input_line and response_line:\n",
    "                dialog_pairs.append((input_line, response_line))\n",
    "    return dialog_pairs\n",
    "\n",
    "dialog_pairs = create_dialog_pairs(conversations, lines_df.set_index('LineID')['Text'].to_dict())\n",
    "\n",
    "# Print some dialog pairs\n",
    "for pair in dialog_pairs[:5]:\n",
    "    print(f\"Input: {pair[0]}\\nResponse: {pair[1]}\\n\")"
   ]
  },
  {
   "cell_type": "code",
   "execution_count": 11,
   "id": "9516311d-79e1-489e-92aa-e3d6a0159c18",
   "metadata": {
    "colab": {
     "base_uri": "https://localhost:8080/",
     "height": 206
    },
    "id": "9516311d-79e1-489e-92aa-e3d6a0159c18",
    "outputId": "b8ecea45-c83e-45c2-edef-89561f56c34a"
   },
   "outputs": [
    {
     "data": {
      "text/html": [
       "<div>\n",
       "<style scoped>\n",
       "    .dataframe tbody tr th:only-of-type {\n",
       "        vertical-align: middle;\n",
       "    }\n",
       "\n",
       "    .dataframe tbody tr th {\n",
       "        vertical-align: top;\n",
       "    }\n",
       "\n",
       "    .dataframe thead th {\n",
       "        text-align: right;\n",
       "    }\n",
       "</style>\n",
       "<table border=\"1\" class=\"dataframe\">\n",
       "  <thead>\n",
       "    <tr style=\"text-align: right;\">\n",
       "      <th></th>\n",
       "      <th>input</th>\n",
       "      <th>response</th>\n",
       "    </tr>\n",
       "  </thead>\n",
       "  <tbody>\n",
       "    <tr>\n",
       "      <th>0</th>\n",
       "      <td>Can we make this quick?  Roxanne Korrine and A...</td>\n",
       "      <td>Well, I thought we'd start with pronunciation,...</td>\n",
       "    </tr>\n",
       "    <tr>\n",
       "      <th>1</th>\n",
       "      <td>Well, I thought we'd start with pronunciation,...</td>\n",
       "      <td>Not the hacking and gagging and spitting part....</td>\n",
       "    </tr>\n",
       "    <tr>\n",
       "      <th>2</th>\n",
       "      <td>Not the hacking and gagging and spitting part....</td>\n",
       "      <td>Okay... then how 'bout we try out some French ...</td>\n",
       "    </tr>\n",
       "    <tr>\n",
       "      <th>3</th>\n",
       "      <td>You're asking me out.  That's so cute. What's ...</td>\n",
       "      <td>Forget it.</td>\n",
       "    </tr>\n",
       "    <tr>\n",
       "      <th>4</th>\n",
       "      <td>No, no, it's my fault -- we didn't have a prop...</td>\n",
       "      <td>Cameron.</td>\n",
       "    </tr>\n",
       "  </tbody>\n",
       "</table>\n",
       "</div>"
      ],
      "text/plain": [
       "                                               input  \\\n",
       "0  Can we make this quick?  Roxanne Korrine and A...   \n",
       "1  Well, I thought we'd start with pronunciation,...   \n",
       "2  Not the hacking and gagging and spitting part....   \n",
       "3  You're asking me out.  That's so cute. What's ...   \n",
       "4  No, no, it's my fault -- we didn't have a prop...   \n",
       "\n",
       "                                            response  \n",
       "0  Well, I thought we'd start with pronunciation,...  \n",
       "1  Not the hacking and gagging and spitting part....  \n",
       "2  Okay... then how 'bout we try out some French ...  \n",
       "3                                         Forget it.  \n",
       "4                                           Cameron.  "
      ]
     },
     "execution_count": 11,
     "metadata": {},
     "output_type": "execute_result"
    }
   ],
   "source": [
    "# Convert dialog pairs to DataFrame for easier manipulation\n",
    "cleaned_dialog_df = pd.DataFrame(dialog_pairs, columns=['input', 'response'])\n",
    "\n",
    "# Check the first few rows of the DataFrame\n",
    "cleaned_dialog_df.head()"
   ]
  },
  {
   "cell_type": "code",
   "execution_count": 12,
   "id": "70a6a24d-7028-4644-a2ce-aa3371854c68",
   "metadata": {
    "colab": {
     "base_uri": "https://localhost:8080/",
     "height": 410
    },
    "id": "70a6a24d-7028-4644-a2ce-aa3371854c68",
    "outputId": "e9ec335d-7c74-41f5-8529-83beb4f57fed"
   },
   "outputs": [
    {
     "data": {
      "image/png": "[encoded data removed]",
      "text/plain": [
       "<Figure size 800x400 with 1 Axes>"
      ]
     },
     "metadata": {},
     "output_type": "display_data"
    }
   ],
   "source": [
    "# Displaying Line length distribution\n",
    "cleaned_dialog_df['input_length'] = cleaned_dialog_df['input'].apply(lambda x: len(x.split()))\n",
    "cleaned_dialog_df['response_length'] = cleaned_dialog_df['response'].apply(lambda x: len(x.split()))\n",
    "\n",
    "plt.figure(figsize=(8, 4)) # Shorten it to 6, 4 to ensure it fits to pdf print\n",
    "plt.hist(cleaned_dialog_df['input_length'], bins=30, alpha=0.7, label='Input Line Length')\n",
    "plt.hist(cleaned_dialog_df['response_length'], bins=30, alpha=0.7, label='Response Line Length')\n",
    "plt.title('Distribution of Line Lengths (Input vs. Response)')\n",
    "plt.xlabel('Line Length (Number of Words)')\n",
    "plt.xlim(0,150)\n",
    "plt.ylabel('Frequency')\n",
    "plt.legend()\n",
    "plt.show()"
   ]
  },
  {
   "cell_type": "code",
   "execution_count": 13,
   "id": "1bece27e-bda1-4f48-be2b-21361c2e0ffd",
   "metadata": {
    "colab": {
     "base_uri": "https://localhost:8080/",
     "height": 412
    },
    "id": "1bece27e-bda1-4f48-be2b-21361c2e0ffd",
    "outputId": "7260b262-b0c0-4050-a39e-95b5f9760a4b"
   },
   "outputs": [
    {
     "data": {
      "image/png": "[encoded data removed]",
      "text/plain": [
       "<Figure size 800x400 with 1 Axes>"
      ]
     },
     "metadata": {},
     "output_type": "display_data"
    }
   ],
   "source": [
    "# For visialization of the most common words used\n",
    "all_words = ' '.join(cleaned_dialog_df['input'].tolist() + cleaned_dialog_df['response'].tolist()).split()\n",
    "word_counts = Counter(all_words) # Most common words in the cleaned dialog pairs\n",
    "\n",
    "# Top 20 most common words\n",
    "common_words = word_counts.most_common(20)\n",
    "words, counts = zip(*common_words)\n",
    "\n",
    "plt.figure(figsize=(8, 4))\n",
    "plt.bar(words, counts)\n",
    "plt.title('Top 20 Most Common Words')\n",
    "plt.ylabel('Frequency')\n",
    "plt.xticks(rotation=45)\n",
    "plt.show()"
   ]
  },
  {
   "cell_type": "markdown",
   "id": "CzTLC0HVOHEZ",
   "metadata": {
    "id": "CzTLC0HVOHEZ"
   },
   "source": [
    "## Text Preprocessing\n",
    "Steps Include: <br>\n",
    "* Lowercasing\n",
    "* Removing Punctuation and Special Characters\n",
    "* Tokenization\n",
    "* Stopwords\n",
    "* Lemmatization"
   ]
  },
  {
   "cell_type": "code",
   "execution_count": 14,
   "id": "8f8e198f-c784-4e2e-b2fb-108ceaa692be",
   "metadata": {},
   "outputs": [
    {
     "name": "stderr",
     "output_type": "stream",
     "text": [
      "[nltk_data] Downloading package punkt to\n",
      "[nltk_data]     C:\\Users\\Saad\\AppData\\Roaming\\nltk_data...\n",
      "[nltk_data]   Package punkt is already up-to-date!\n",
      "[nltk_data] Downloading package stopwords to\n",
      "[nltk_data]     C:\\Users\\Saad\\AppData\\Roaming\\nltk_data...\n",
      "[nltk_data]   Package stopwords is already up-to-date!\n",
      "[nltk_data] Downloading package wordnet to\n",
      "[nltk_data]     C:\\Users\\Saad\\AppData\\Roaming\\nltk_data...\n",
      "[nltk_data]   Package wordnet is already up-to-date!\n",
      "[nltk_data] Downloading package punkt_tab to\n",
      "[nltk_data]     C:\\Users\\Saad\\AppData\\Roaming\\nltk_data...\n",
      "[nltk_data]   Package punkt_tab is already up-to-date!\n"
     ]
    },
    {
     "data": {
      "text/plain": [
       "True"
      ]
     },
     "execution_count": 14,
     "metadata": {},
     "output_type": "execute_result"
    }
   ],
   "source": [
    "import nltk\n",
    "nltk.download('punkt')\n",
    "nltk.download('stopwords')\n",
    "nltk.download('wordnet')\n",
    "nltk.download('punkt_tab')"
   ]
  },
  {
   "cell_type": "code",
   "execution_count": 15,
   "id": "e6335eed-b7bc-4b2b-911a-30778680886b",
   "metadata": {},
   "outputs": [],
   "source": [
    "import re\n",
    "import nltk\n",
    "from nltk.corpus import stopwords\n",
    "from nltk.tokenize import word_tokenize\n",
    "from nltk.stem import WordNetLemmatizer"
   ]
  },
  {
   "cell_type": "code",
   "execution_count": 16,
   "id": "62b5533f-16ba-4ad4-8195-dcd6a3ced2a4",
   "metadata": {},
   "outputs": [
    {
     "name": "stdout",
     "output_type": "stream",
     "text": [
      "Row 0: ['Can', 'we', 'make', 'this', 'quick', '?', 'Roxanne', 'Korrine', 'and', 'Andrew', 'Barrett', 'are', 'having', 'an', 'incredibly', 'horrendous', 'public', 'break-', 'up', 'on', 'the', 'quad', '.', 'Again', '.']\n",
      "Row 1: ['Well', ',', 'I', 'thought', 'we', \"'d\", 'start', 'with', 'pronunciation', ',', 'if', 'that', \"'s\", 'okay', 'with', 'you', '.']\n",
      "Row 2: ['Not', 'the', 'hacking', 'and', 'gagging', 'and', 'spitting', 'part', '.', 'Please', '.']\n",
      "Row 3: ['You', \"'re\", 'asking', 'me', 'out', '.', 'That', \"'s\", 'so', 'cute', '.', 'What', \"'s\", 'your', 'name', 'again', '?']\n",
      "Row 4: ['No', ',', 'no', ',', 'it', \"'s\", 'my', 'fault', '--', 'we', 'did', \"n't\", 'have', 'a', 'proper', 'introduction', '--', '-']\n",
      "Row 5: ['Cameron', '.']\n",
      "Row 6: ['The', 'thing', 'is', ',', 'Cameron', '--', 'I', \"'m\", 'at', 'the', 'mercy', 'of', 'a', 'particularly', 'hideous', 'breed', 'of', 'loser', '.', 'My', 'sister', '.', 'I', 'ca', \"n't\", 'date', 'until', 'she', 'does', '.']\n",
      "Row 7: ['Why', '?']\n",
      "Row 8: ['Unsolved', 'mystery', '.', 'She', 'used', 'to', 'be', 'really', 'popular', 'when', 'she', 'started', 'high', 'school', ',', 'then', 'it', 'was', 'just', 'like', 'she', 'got', 'sick', 'of', 'it', 'or', 'something', '.']\n",
      "Row 9: ['Gosh', ',', 'if', 'only', 'we', 'could', 'find', 'Kat', 'a', 'boyfriend', '...']\n"
     ]
    }
   ],
   "source": [
    "for i, text in enumerate(cleaned_dialog_df['input'].head(10)):  # Try first 10 rows\n",
    "    try:\n",
    "        tokens = word_tokenize(text)\n",
    "        print(f\"Row {i}: {tokens}\")\n",
    "    except Exception as e:\n",
    "        print(f\"Error in row {i}: {e}\")"
   ]
  },
  {
   "cell_type": "code",
   "execution_count": 17,
   "id": "a6f72127-6f85-4ea9-8721-2a0098488fba",
   "metadata": {
    "colab": {
     "base_uri": "https://localhost:8080/",
     "height": 0
    },
    "id": "a6f72127-6f85-4ea9-8721-2a0098488fba",
    "outputId": "e283bbf3-5e5a-4ce6-e44a-7dab9aec0423"
   },
   "outputs": [],
   "source": [
    "#import re\n",
    "#import nltk\n",
    "#from nltk.corpus import stopwords\n",
    "#from nltk.tokenize import word_tokenize\n",
    "#from nltk.stem import WordNetLemmatizer\n",
    "\n",
    "# Download required resources from nltk\n",
    "#nltk.download('punkt')\n",
    "#nltk.download('stopwords')\n",
    "#nltk.download('wordnet')\n",
    "\n",
    "# Initialize stopwords and lemmatizer\n",
    "stop_words = set(stopwords.words('english'))\n",
    "lemmatizer = WordNetLemmatizer()\n",
    "\n",
    "# Preprocessing function\n",
    "def preprocess_text(text):\n",
    "    # 1. Lowercasing\n",
    "    text = text.lower()\n",
    "\n",
    "    # 2. Removing Punctuation and Special Characters\n",
    "    text = re.sub(r'[^\\w\\s]', '', text)  # Removes punctuation\n",
    "\n",
    "    # 3. Tokenization\n",
    "    tokens = word_tokenize(text)\n",
    "\n",
    "    # 4. Removing Stopwords\n",
    "    tokens = [word for word in tokens if word not in stop_words]\n",
    "\n",
    "    # 5. Lemmatization (Optional but recommended)\n",
    "    tokens = [lemmatizer.lemmatize(word) for word in tokens]\n",
    "\n",
    "    # Join tokens back into a single string\n",
    "    return ' '.join(tokens)\n",
    "\n",
    "# Applying the preprocessing to both 'input' and 'response' columns\n",
    "cleaned_dialog_df['cleaned_input'] = cleaned_dialog_df['input'].apply(preprocess_text)\n",
    "cleaned_dialog_df['cleaned_response'] = cleaned_dialog_df['response'].apply(preprocess_text)"
   ]
  },
  {
   "cell_type": "code",
   "execution_count": 18,
   "id": "gplZf90QaBnf",
   "metadata": {
    "colab": {
     "base_uri": "https://localhost:8080/",
     "height": 0
    },
    "id": "gplZf90QaBnf",
    "outputId": "a810f064-3f0f-4191-97bc-cc5b7af16edc"
   },
   "outputs": [
    {
     "name": "stdout",
     "output_type": "stream",
     "text": [
      "                                       cleaned_input  \\\n",
      "0  make quick roxanne korrine andrew barrett incr...   \n",
      "1    well thought wed start pronunciation thats okay   \n",
      "2               hacking gagging spitting part please   \n",
      "3                 youre asking thats cute whats name   \n",
      "4                    fault didnt proper introduction   \n",
      "\n",
      "                                  cleaned_response  \n",
      "0  well thought wed start pronunciation thats okay  \n",
      "1             hacking gagging spitting part please  \n",
      "2      okay bout try french cuisine saturday night  \n",
      "3                                           forget  \n",
      "4                                          cameron  \n"
     ]
    }
   ],
   "source": [
    "# Display the first few rows to check the preprocessing\n",
    "print(cleaned_dialog_df[['cleaned_input', 'cleaned_response']].head())"
   ]
  },
  {
   "cell_type": "markdown",
   "id": "dqDFX9TaOzEH",
   "metadata": {
    "id": "dqDFX9TaOzEH"
   },
   "source": [
    "## Additional Preprocessing Step - Handling Rare Words\n",
    "Words that are not used often and are insignficant to the training"
   ]
  },
  {
   "cell_type": "code",
   "execution_count": 19,
   "id": "dZnh0xAfOzlo",
   "metadata": {
    "colab": {
     "base_uri": "https://localhost:8080/",
     "height": 0
    },
    "id": "dZnh0xAfOzlo",
    "outputId": "c9d492b1-2b32-41e2-b757-4821d89f21d2"
   },
   "outputs": [
    {
     "name": "stdout",
     "output_type": "stream",
     "text": [
      "                                               input  \\\n",
      "0  Can we make this quick? <UNK> <UNK> and Andrew...   \n",
      "1  Well, I thought we'd start with <UNK> if that'...   \n",
      "2  Not the hacking and gagging and spitting part....   \n",
      "3  You're asking me out. That's so cute. What's y...   \n",
      "4  No, no, it's my fault -- we didn't have a prop...   \n",
      "\n",
      "                                            response  \n",
      "0  Well, I thought we'd start with <UNK> if that'...  \n",
      "1  Not the hacking and gagging and spitting part....  \n",
      "2  Okay... then how 'bout we try out some French ...  \n",
      "3                                         Forget it.  \n",
      "4                                           Cameron.  \n"
     ]
    }
   ],
   "source": [
    "from collections import Counter\n",
    "\n",
    "# Step 1: Combine all text (input and response) into a single list of words\n",
    "all_words = ' '.join(cleaned_dialog_df['input'].tolist() + cleaned_dialog_df['response'].tolist()).split()\n",
    "\n",
    "# Step 2: Count the frequency of each word\n",
    "word_counts = Counter(all_words)\n",
    "\n",
    "# Step 3: Set a threshold (e.g., words that appear fewer than 5 times are considered rare)\n",
    "threshold = 5\n",
    "rare_words = {word for word, count in word_counts.items() if count < threshold}\n",
    "\n",
    "# Step 4: Define a function to replace rare words with '<UNK>'\n",
    "def replace_rare_words(text, rare_words_set):\n",
    "    return ' '.join([word if word not in rare_words_set else '<UNK>' for word in text.split()])\n",
    "\n",
    "# Step 5: Apply the function to both the input and response columns\n",
    "cleaned_dialog_df['input'] = cleaned_dialog_df['input'].apply(lambda x: replace_rare_words(x, rare_words))\n",
    "cleaned_dialog_df['response'] = cleaned_dialog_df['response'].apply(lambda x: replace_rare_words(x, rare_words))\n",
    "\n",
    "# Step 6: Check a few examples\n",
    "print(cleaned_dialog_df[['input', 'response']].head())"
   ]
  },
  {
   "cell_type": "markdown",
   "id": "K98StiwGPWPD",
   "metadata": {
    "id": "K98StiwGPWPD"
   },
   "source": [
    "## Data Exploration and Visualization after Preprocessing"
   ]
  },
  {
   "cell_type": "code",
   "execution_count": 20,
   "id": "G8JIg4IMPbsB",
   "metadata": {
    "colab": {
     "base_uri": "https://localhost:8080/",
     "height": 410
    },
    "id": "G8JIg4IMPbsB",
    "outputId": "99740b71-3be6-4140-e255-1c48a2a8fb1c"
   },
   "outputs": [
    {
     "data": {
      "image/png": "[encoded data removed]",
      "text/plain": [
       "<Figure size 800x400 with 1 Axes>"
      ]
     },
     "metadata": {},
     "output_type": "display_data"
    }
   ],
   "source": [
    "import matplotlib.pyplot as plt\n",
    "import seaborn as sns\n",
    "from collections import Counter\n",
    "from wordcloud import WordCloud\n",
    "import warnings\n",
    "\n",
    "# Suppress all warnings\n",
    "warnings.filterwarnings('ignore')\n",
    "\n",
    "# 1. Distribution of Input and Response Lengths\n",
    "\n",
    "# Calculate the length of each cleaned input and response in terms of number of words\n",
    "cleaned_dialog_df['input_length'] = cleaned_dialog_df['cleaned_input'].apply(lambda x: len(x.split()))\n",
    "cleaned_dialog_df['response_length'] = cleaned_dialog_df['cleaned_response'].apply(lambda x: len(x.split()))\n",
    "\n",
    "# Plot histograms for input and response lengths\n",
    "plt.figure(figsize=(8, 4))\n",
    "plt.hist(cleaned_dialog_df['input_length'], bins=30, alpha=0.7, label='Input Line Length')\n",
    "plt.hist(cleaned_dialog_df['response_length'], bins=30, alpha=0.7, label='Response Line Length')\n",
    "plt.title('Distribution of Line Lengths (Input vs. Response)')\n",
    "plt.xlabel('Line Length (Number of Words)')\n",
    "plt.xlim(0, 50)\n",
    "plt.ylabel('Frequency')\n",
    "plt.legend()\n",
    "plt.show()"
   ]
  },
  {
   "cell_type": "code",
   "execution_count": 21,
   "id": "mrRckkRcQS1_",
   "metadata": {
    "colab": {
     "base_uri": "https://localhost:8080/",
     "height": 414
    },
    "id": "mrRckkRcQS1_",
    "outputId": "8e5e19e0-5db7-45e4-f2be-bf3253402745"
   },
   "outputs": [
    {
     "data": {
      "image/png": "[encoded data removed]",
      "text/plain": [
       "<Figure size 800x400 with 1 Axes>"
      ]
     },
     "metadata": {},
     "output_type": "display_data"
    }
   ],
   "source": [
    "# 2. Most Common Words in Cleaned Input and Responses\n",
    "\n",
    "# Combine all words from both input and response\n",
    "all_words = ' '.join(cleaned_dialog_df['cleaned_input'].tolist() + cleaned_dialog_df['cleaned_response'].tolist()).split()\n",
    "\n",
    "# Count the frequency of each word\n",
    "word_counts = Counter(all_words)\n",
    "\n",
    "# Get the 20 most common words\n",
    "common_words = word_counts.most_common(20)\n",
    "words, counts = zip(*common_words)\n",
    "\n",
    "# Create a bar plot for the 20 most common words\n",
    "plt.figure(figsize=(8, 4))\n",
    "sns.barplot(x=list(words), y=list(counts), palette='viridis')\n",
    "plt.title('Top 20 Most Common Words After Preprocessing')\n",
    "plt.ylabel('Frequency')\n",
    "plt.xticks(rotation=45)\n",
    "plt.show()"
   ]
  },
  {
   "cell_type": "code",
   "execution_count": 22,
   "id": "rMHyoVnyQVRi",
   "metadata": {
    "colab": {
     "base_uri": "https://localhost:8080/",
     "height": 367
    },
    "id": "rMHyoVnyQVRi",
    "outputId": "3ca7dbfa-c095-4e53-b9bf-1423e7b009e2"
   },
   "outputs": [
    {
     "data": {
      "image/png": "[encoded data removed]",
      "text/plain": [
       "<Figure size 1000x400 with 1 Axes>"
      ]
     },
     "metadata": {},
     "output_type": "display_data"
    }
   ],
   "source": [
    "# 3. Word Cloud of Most Common Words\n",
    "\n",
    "# Generate a word cloud\n",
    "wordcloud = WordCloud(width=800, height=400, background_color='white').generate(' '.join(all_words))\n",
    "\n",
    "# Display the word cloud\n",
    "plt.figure(figsize=(10, 4))\n",
    "plt.imshow(wordcloud, interpolation='bilinear')\n",
    "plt.axis('off')  # Hide axes\n",
    "plt.title(\"Word Cloud of Movie Dialogues After Preprocessing\")\n",
    "plt.show()"
   ]
  },
  {
   "cell_type": "code",
   "execution_count": 23,
   "id": "9eT4si75QXFY",
   "metadata": {
    "colab": {
     "base_uri": "https://localhost:8080/",
     "height": 447
    },
    "id": "9eT4si75QXFY",
    "outputId": "bf0aa782-d5eb-4131-f59a-011a55110981"
   },
   "outputs": [
    {
     "name": "stdout",
     "output_type": "stream",
     "text": [
      "Average Input Length (in words): 5.18\n",
      "Average Response Length (in words): 5.38\n"
     ]
    },
    {
     "data": {
      "image/png": "[encoded data removed]",
      "text/plain": [
       "<Figure size 800x400 with 1 Axes>"
      ]
     },
     "metadata": {},
     "output_type": "display_data"
    }
   ],
   "source": [
    "# 4. Statistics: Average Input and Response Length\n",
    "\n",
    "# Calculate average input and response length\n",
    "avg_input_length = cleaned_dialog_df['input_length'].mean()\n",
    "avg_response_length = cleaned_dialog_df['response_length'].mean()\n",
    "\n",
    "print(f\"Average Input Length (in words): {avg_input_length:.2f}\")\n",
    "print(f\"Average Response Length (in words): {avg_response_length:.2f}\")\n",
    "\n",
    "# Optional: Visualizing Input vs Response Length\n",
    "plt.figure(figsize=(8, 4))\n",
    "sns.scatterplot(x='input_length', y='response_length', data=cleaned_dialog_df, alpha=0.6)\n",
    "plt.title('Input vs. Response Length (in words)')\n",
    "plt.xlabel('Input Length (words)')\n",
    "plt.ylabel('Response Length (words)')\n",
    "plt.show()"
   ]
  },
  {
   "cell_type": "code",
   "execution_count": 24,
   "id": "5jHI6B2l708_",
   "metadata": {
    "colab": {
     "base_uri": "https://localhost:8080/",
     "height": 456
    },
    "id": "5jHI6B2l708_",
    "outputId": "baaa2050-7b10-4f72-d183-4b349aca52f7"
   },
   "outputs": [
    {
     "data": {
      "image/png": "[encoded data removed]",
      "text/plain": [
       "<Figure size 600x400 with 1 Axes>"
      ]
     },
     "metadata": {},
     "output_type": "display_data"
    }
   ],
   "source": [
    "import matplotlib.pyplot as plt\n",
    "import seaborn as sns\n",
    "\n",
    "# Assuming 'lines_df' is the DataFrame with the 'CharacterName' column\n",
    "# Count the number of lines spoken by each character\n",
    "top_characters = lines_df['CharacterName'].value_counts().head(10)\n",
    "\n",
    "# Plot the top 10 characters by the number of lines spoken\n",
    "plt.figure(figsize=(6, 4))\n",
    "sns.barplot(x=top_characters.index, y=top_characters.values, palette='coolwarm')\n",
    "plt.title(\"Top 10 Characters by Number of Dialogues\", fontsize=16)\n",
    "plt.xlabel(\"Character Name\", fontsize=12)\n",
    "plt.ylabel(\"Number of Dialogues\", fontsize=12)\n",
    "plt.xticks(rotation=45)\n",
    "plt.show()"
   ]
  },
  {
   "cell_type": "markdown",
   "id": "bGB4I8XIQ_Hg",
   "metadata": {
    "id": "bGB4I8XIQ_Hg"
   },
   "source": [
    "The visuals **after preprocessing** provide insights into the cleaned dataset. The first histogram shows the distribution<br> of line lengths for both input and response dialogues, indicating that most conversations are short, with the <br>majority being under 10 words. The bar chart of the top 20 most common words reveals frequent usage of <br>conversational terms like \"don't,\" \"know,\" and \"I'm,\" illustrating common speech patterns in movie dialogues. The word <br>cloud highlights key dialogue words after preprocessing, showcasing prominent terms such as \"know,\" \"one,\" <br>and \"well.\" The scatter plot, comparing input and response lengths, indicates a positive correlation where longer inputs <br>tend to produce longer responses. Lastly, the bar chart displaying the top 10 characters by the number <br>of dialogues reveals \"Jack\" as the most frequent speaker, followed by \"Joe\" and \"George.\" Together, these <br>visuals demonstrate how the dataset has been effectively cleaned and analyzed for key conversational patterns."
   ]
  },
  {
   "cell_type": "markdown",
   "id": "XTezWkFoc_Wr",
   "metadata": {
    "id": "XTezWkFoc_Wr"
   },
   "source": [
    "## Check for Imbalance in the Data\n",
    "Balancing the dataset by addressing **imbalances** in character dialogue count and sentiment is <br>essential to prevent the model from favoring certain characters or dialogue types, ensuring fair <br>representation and diversity in responses."
   ]
  },
  {
   "cell_type": "code",
   "execution_count": 25,
   "id": "jglrVMi_dEVY",
   "metadata": {
    "colab": {
     "base_uri": "https://localhost:8080/",
     "height": 580
    },
    "id": "jglrVMi_dEVY",
    "outputId": "6aa5860e-d023-4b18-ef62-d7d3fd3ad751"
   },
   "outputs": [
    {
     "data": {
      "image/png": "[encoded data removed]",
      "text/plain": [
       "<Figure size 800x400 with 1 Axes>"
      ]
     },
     "metadata": {},
     "output_type": "display_data"
    },
    {
     "name": "stdout",
     "output_type": "stream",
     "text": [
      "count    5356.000000\n",
      "mean       56.891897\n",
      "std       133.209117\n",
      "min         3.000000\n",
      "25%         6.000000\n",
      "50%        15.000000\n",
      "75%        48.000000\n",
      "max      3032.000000\n",
      "Name: count, dtype: float64\n"
     ]
    }
   ],
   "source": [
    "# Check for imbalance in character dialogue count\n",
    "character_dialogue_counts = lines_df['CharacterName'].value_counts()\n",
    "\n",
    "# Visualize the distribution\n",
    "plt.figure(figsize=(8, 4))\n",
    "sns.histplot(character_dialogue_counts, kde=False, bins=50, color='blue')\n",
    "plt.title('Distribution of Dialogue Count per Character', fontsize=14)\n",
    "plt.xlabel('Number of Dialogues', fontsize=12)\n",
    "plt.ylabel('Frequency of Characters', fontsize=12)\n",
    "plt.show()\n",
    "\n",
    "# Identify any imbalances (characters with significantly more dialogues)\n",
    "print(character_dialogue_counts.describe())"
   ]
  },
  {
   "cell_type": "markdown",
   "id": "1BY-griEggBT",
   "metadata": {
    "id": "1BY-griEggBT"
   },
   "source": [
    "The **bar chart above** shows the distribution of dialogue counts per character in the dataset, with most characters <br>contributing fewer than 500 lines and a significant majority speaking under 100 lines. Addressing this imbalance could <br>enhance response diversity by including less frequent characters, but it's not essential unless broader character <br>representation is desired."
   ]
  },
  {
   "cell_type": "markdown",
   "id": "NZueUvF0hdWZ",
   "metadata": {
    "id": "NZueUvF0hdWZ"
   },
   "source": [
    "## Split the Data"
   ]
  },
  {
   "cell_type": "code",
   "execution_count": 26,
   "id": "ft9L3V2Sh7Tt",
   "metadata": {
    "colab": {
     "base_uri": "https://localhost:8080/",
     "height": 0
    },
    "id": "ft9L3V2Sh7Tt",
    "outputId": "70ec0b89-517c-4536-8345-7df9027c9f65"
   },
   "outputs": [
    {
     "name": "stdout",
     "output_type": "stream",
     "text": [
      "Training set size: 177025\n",
      "Validation set size: 22128\n",
      "Test set size: 22129\n"
     ]
    }
   ],
   "source": [
    "from sklearn.model_selection import train_test_split\n",
    "\n",
    "# Split the data into training, validation, and test sets\n",
    "train_data, temp_data = train_test_split(cleaned_dialog_df, test_size=0.2, random_state=42)  # 80% training\n",
    "val_data, test_data = train_test_split(temp_data, test_size=0.5, random_state=42)  # 10% validation, 10% test\n",
    "\n",
    "# Display the sizes of each set\n",
    "print(f\"Training set size: {len(train_data)}\")\n",
    "print(f\"Validation set size: {len(val_data)}\")\n",
    "print(f\"Test set size: {len(test_data)}\")"
   ]
  },
  {
   "cell_type": "markdown",
   "id": "jWBPz0BYGZeT",
   "metadata": {
    "id": "jWBPz0BYGZeT"
   },
   "source": [
    "## Implement T5 Model"
   ]
  },
  {
   "cell_type": "code",
   "execution_count": 30,
   "id": "448f0f1d-fce9-4bd8-9dac-6954817bf10c",
   "metadata": {},
   "outputs": [
    {
     "name": "stdout",
     "output_type": "stream",
     "text": [
      "4.45.2\n",
      "0.2.0\n"
     ]
    }
   ],
   "source": [
    "import sentencepiece\n",
    "import transformers\n",
    "print(transformers.__version__)\n",
    "print(sentencepiece.__version__)"
   ]
  },
  {
   "cell_type": "code",
   "execution_count": 29,
   "id": "09fO4yi7Gdg-",
   "metadata": {
    "id": "09fO4yi7Gdg-"
   },
   "outputs": [
    {
     "ename": "NameError",
     "evalue": "name 'transformers' is not defined",
     "output_type": "error",
     "traceback": [
      "\u001b[1;31m---------------------------------------------------------------------------\u001b[0m",
      "\u001b[1;31mNameError\u001b[0m                                 Traceback (most recent call last)",
      "Cell \u001b[1;32mIn[29], line 4\u001b[0m\n\u001b[0;32m      1\u001b[0m \u001b[38;5;66;03m# !pip install transformers torch datasets\u001b[39;00m\n\u001b[0;32m      2\u001b[0m \u001b[38;5;66;03m#!pip install sentencepiece\u001b[39;00m\n\u001b[1;32m----> 4\u001b[0m \u001b[38;5;28mprint\u001b[39m(transformers\u001b[38;5;241m.\u001b[39m__version__)\n\u001b[0;32m      5\u001b[0m \u001b[38;5;28mprint\u001b[39m(sentencepiece\u001b[38;5;241m.\u001b[39m__version__)\n",
      "\u001b[1;31mNameError\u001b[0m: name 'transformers' is not defined"
     ]
    }
   ],
   "source": [
    "# !pip install transformers torch datasets\n",
    "#!pip install sentencepiece\n",
    "\n"
   ]
  },
  {
   "cell_type": "code",
   "execution_count": 28,
   "id": "1YnuuXruGvdi",
   "metadata": {
    "id": "1YnuuXruGvdi"
   },
   "outputs": [],
   "source": [
    "# Import Necessary Libraries\n",
    "import torch\n",
    "import sentencepiece as spm\n",
    "from transformers import T5Tokenizer, T5ForConditionalGeneration\n",
    "from torch.utils.data import Dataset, DataLoader\n",
    "from tqdm import tqdm"
   ]
  },
  {
   "cell_type": "markdown",
   "id": "xmEeN8j0G147",
   "metadata": {
    "id": "xmEeN8j0G147"
   },
   "source": [
    "## Setup Tokenizer and Model"
   ]
  },
  {
   "cell_type": "code",
   "execution_count": 31,
   "id": "kB9OaVmkG5PE",
   "metadata": {
    "colab": {
     "base_uri": "https://localhost:8080/",
     "height": 2744,
     "referenced_widgets": [
      "6267ba91ef634b1da27041f30ac51e23",
      "eb6dfe36d8b64588a9f4d9285d70ea0f",
      "68ae36807e2e4fc69ec96f18408a4b4d",
      "dda9af6f091b4bf7b0d929eb1f6f8cca",
      "ef8c8ee15f724d6ba9b91086ff8b1075",
      "237b171c8d21401b8aca7deb1b0c13df",
      "76ebd7fb325b42dcaa7d4c9aa81db458",
      "16e314ff98e648a886c98e37c63cf6ba",
      "05cecf0f15a84beab0990479849c6d21",
      "afea1a23366e42c5b5d7161f7edd9697",
      "a1322f1963344f8b88998a6c6141e660",
      "a1f701efd59448a99196ca42e1ccbb4a",
      "cf1ece227b6d490ab50b4589982e249b",
      "f97d9fedb15e4311910ceef69a5776ea",
      "9dd6e59d35f040de8f04de18a701f0aa",
      "f61b2cd22e1e4b8a87905477c3bad7da",
      "469be8e0ab464bc6a2c3639f15912e85",
      "97b2b5696e3746309bee7a4b2303f12c",
      "b907e2faaaff449d9572b42c9fb00aa2",
      "e816c40509e344cea4593b543e975c7e",
      "73a7a9b1e7564ea3865a4a54f60df590",
      "ba065278007f4fcd825597bfae24a93e",
      "66695517b2714201b65b5717142855f2",
      "c9825fd67edd431cbde3234b8e180b4e",
      "8b323cbf73a74a189b243099603701ed",
      "7333c6113f854a86ab30ebdea304d511",
      "b7a4a05c0cb541848a30804bd6056a46",
      "e67b1a3668484918b1812d27b4ddc4fb",
      "1a75aacd223a45958b85c8d23f901253",
      "fc8842beb4324f89b4952c33f4a93858",
      "c4b5060aba0147eea590eede176dc567",
      "af73837bc5c44ea5b2fcc4374ed20063",
      "197427a736ac45508db978cd31512b7f",
      "2c19b2f7dc0d4bfe959856a7484699e6",
      "8b772e8bdc864de0a700b949465a0ffd",
      "9326ff9b12a84d92af1bfe7751382740",
      "2ee2fe03bf044dd2aec2ec4cb154ecca",
      "2eea47fd46f34209bc96f4d251bdccac",
      "4709d6b07e8c48b2b2072919d2dde6ba",
      "cf548125d95d4248afc03342e4f0c588",
      "95975e0de1bd45038209e752a7a4581a",
      "31b76d2e43ac478cb0149b68d1003e9c",
      "8b2ff2b7b4c54ef7bd4333c98b590537",
      "8b2c339719cf43f389a9c431b199c77b",
      "7c80b092ec024bc3808d99aa613b483d",
      "51056a510b7e4acf998976de91ef536f",
      "a6f33305252e45168e0db1a2ece62dac",
      "bb01388adc664f05a5d86a60d0b024b8",
      "8432dc7c0d6c4948901ec8d9c6d88645",
      "7cf3b9babfb64871ab408979a7001bce",
      "778d0cd7bb334ded9abbc33b844a5e0e",
      "1bb7b00301f749d6abdc0749d8d29a63",
      "4ab09560d5694d6586561cbb44f8f56f",
      "f56c351c72b841e589e81dc3b688419a",
      "ae70ff9721284fb1ac0e51b0b3555626",
      "e5f4526ecd0e46b28b451050b9397bca",
      "6c4d110841564c458578932d3c7f2c63",
      "9222a173a8b14d93a62e0cec5fca07f3",
      "f4a1bd841e804874ad5700f7d1d9e8d5",
      "f22c609b10cf42eab2c558a59a774d2e",
      "041f75fb2e8d41e5af2e5ab0ea9877b2",
      "5547836833c94cb6822a748c1fdaa442",
      "7309b84e7ace486ba8f403c21e85d0f0",
      "0f794a17547949bcb785691e52944895",
      "02eb62f23fbe4f70a11f525d3eb3b41f",
      "e16627181e7b446fbf00fb2b33efc26e"
     ]
    },
    "id": "kB9OaVmkG5PE",
    "outputId": "9ece6c75-8de4-494f-c515-303d2d417912"
   },
   "outputs": [
    {
     "name": "stderr",
     "output_type": "stream",
     "text": [
      "You are using the default legacy behaviour of the <class 'transformers.models.t5.tokenization_t5.T5Tokenizer'>. This is expected, and simply means that the `legacy` (previous) behavior will be used so nothing changes for you. If you want to use the new behaviour, set `legacy=False`. This should only be set if you understand what it means, and thoroughly read the reason why this was added as explained in https://github.com/huggingface/transformers/pull/24565\n"
     ]
    },
    {
     "data": {
      "text/plain": [
       "T5ForConditionalGeneration(\n",
       "  (shared): Embedding(32128, 512)\n",
       "  (encoder): T5Stack(\n",
       "    (embed_tokens): Embedding(32128, 512)\n",
       "    (block): ModuleList(\n",
       "      (0): T5Block(\n",
       "        (layer): ModuleList(\n",
       "          (0): T5LayerSelfAttention(\n",
       "            (SelfAttention): T5Attention(\n",
       "              (q): Linear(in_features=512, out_features=512, bias=False)\n",
       "              (k): Linear(in_features=512, out_features=512, bias=False)\n",
       "              (v): Linear(in_features=512, out_features=512, bias=False)\n",
       "              (o): Linear(in_features=512, out_features=512, bias=False)\n",
       "              (relative_attention_bias): Embedding(32, 8)\n",
       "            )\n",
       "            (layer_norm): T5LayerNorm()\n",
       "            (dropout): Dropout(p=0.1, inplace=False)\n",
       "          )\n",
       "          (1): T5LayerFF(\n",
       "            (DenseReluDense): T5DenseActDense(\n",
       "              (wi): Linear(in_features=512, out_features=2048, bias=False)\n",
       "              (wo): Linear(in_features=2048, out_features=512, bias=False)\n",
       "              (dropout): Dropout(p=0.1, inplace=False)\n",
       "              (act): ReLU()\n",
       "            )\n",
       "            (layer_norm): T5LayerNorm()\n",
       "            (dropout): Dropout(p=0.1, inplace=False)\n",
       "          )\n",
       "        )\n",
       "      )\n",
       "      (1-5): 5 x T5Block(\n",
       "        (layer): ModuleList(\n",
       "          (0): T5LayerSelfAttention(\n",
       "            (SelfAttention): T5Attention(\n",
       "              (q): Linear(in_features=512, out_features=512, bias=False)\n",
       "              (k): Linear(in_features=512, out_features=512, bias=False)\n",
       "              (v): Linear(in_features=512, out_features=512, bias=False)\n",
       "              (o): Linear(in_features=512, out_features=512, bias=False)\n",
       "            )\n",
       "            (layer_norm): T5LayerNorm()\n",
       "            (dropout): Dropout(p=0.1, inplace=False)\n",
       "          )\n",
       "          (1): T5LayerFF(\n",
       "            (DenseReluDense): T5DenseActDense(\n",
       "              (wi): Linear(in_features=512, out_features=2048, bias=False)\n",
       "              (wo): Linear(in_features=2048, out_features=512, bias=False)\n",
       "              (dropout): Dropout(p=0.1, inplace=False)\n",
       "              (act): ReLU()\n",
       "            )\n",
       "            (layer_norm): T5LayerNorm()\n",
       "            (dropout): Dropout(p=0.1, inplace=False)\n",
       "          )\n",
       "        )\n",
       "      )\n",
       "    )\n",
       "    (final_layer_norm): T5LayerNorm()\n",
       "    (dropout): Dropout(p=0.1, inplace=False)\n",
       "  )\n",
       "  (decoder): T5Stack(\n",
       "    (embed_tokens): Embedding(32128, 512)\n",
       "    (block): ModuleList(\n",
       "      (0): T5Block(\n",
       "        (layer): ModuleList(\n",
       "          (0): T5LayerSelfAttention(\n",
       "            (SelfAttention): T5Attention(\n",
       "              (q): Linear(in_features=512, out_features=512, bias=False)\n",
       "              (k): Linear(in_features=512, out_features=512, bias=False)\n",
       "              (v): Linear(in_features=512, out_features=512, bias=False)\n",
       "              (o): Linear(in_features=512, out_features=512, bias=False)\n",
       "              (relative_attention_bias): Embedding(32, 8)\n",
       "            )\n",
       "            (layer_norm): T5LayerNorm()\n",
       "            (dropout): Dropout(p=0.1, inplace=False)\n",
       "          )\n",
       "          (1): T5LayerCrossAttention(\n",
       "            (EncDecAttention): T5Attention(\n",
       "              (q): Linear(in_features=512, out_features=512, bias=False)\n",
       "              (k): Linear(in_features=512, out_features=512, bias=False)\n",
       "              (v): Linear(in_features=512, out_features=512, bias=False)\n",
       "              (o): Linear(in_features=512, out_features=512, bias=False)\n",
       "            )\n",
       "            (layer_norm): T5LayerNorm()\n",
       "            (dropout): Dropout(p=0.1, inplace=False)\n",
       "          )\n",
       "          (2): T5LayerFF(\n",
       "            (DenseReluDense): T5DenseActDense(\n",
       "              (wi): Linear(in_features=512, out_features=2048, bias=False)\n",
       "              (wo): Linear(in_features=2048, out_features=512, bias=False)\n",
       "              (dropout): Dropout(p=0.1, inplace=False)\n",
       "              (act): ReLU()\n",
       "            )\n",
       "            (layer_norm): T5LayerNorm()\n",
       "            (dropout): Dropout(p=0.1, inplace=False)\n",
       "          )\n",
       "        )\n",
       "      )\n",
       "      (1-5): 5 x T5Block(\n",
       "        (layer): ModuleList(\n",
       "          (0): T5LayerSelfAttention(\n",
       "            (SelfAttention): T5Attention(\n",
       "              (q): Linear(in_features=512, out_features=512, bias=False)\n",
       "              (k): Linear(in_features=512, out_features=512, bias=False)\n",
       "              (v): Linear(in_features=512, out_features=512, bias=False)\n",
       "              (o): Linear(in_features=512, out_features=512, bias=False)\n",
       "            )\n",
       "            (layer_norm): T5LayerNorm()\n",
       "            (dropout): Dropout(p=0.1, inplace=False)\n",
       "          )\n",
       "          (1): T5LayerCrossAttention(\n",
       "            (EncDecAttention): T5Attention(\n",
       "              (q): Linear(in_features=512, out_features=512, bias=False)\n",
       "              (k): Linear(in_features=512, out_features=512, bias=False)\n",
       "              (v): Linear(in_features=512, out_features=512, bias=False)\n",
       "              (o): Linear(in_features=512, out_features=512, bias=False)\n",
       "            )\n",
       "            (layer_norm): T5LayerNorm()\n",
       "            (dropout): Dropout(p=0.1, inplace=False)\n",
       "          )\n",
       "          (2): T5LayerFF(\n",
       "            (DenseReluDense): T5DenseActDense(\n",
       "              (wi): Linear(in_features=512, out_features=2048, bias=False)\n",
       "              (wo): Linear(in_features=2048, out_features=512, bias=False)\n",
       "              (dropout): Dropout(p=0.1, inplace=False)\n",
       "              (act): ReLU()\n",
       "            )\n",
       "            (layer_norm): T5LayerNorm()\n",
       "            (dropout): Dropout(p=0.1, inplace=False)\n",
       "          )\n",
       "        )\n",
       "      )\n",
       "    )\n",
       "    (final_layer_norm): T5LayerNorm()\n",
       "    (dropout): Dropout(p=0.1, inplace=False)\n",
       "  )\n",
       "  (lm_head): Linear(in_features=512, out_features=32128, bias=False)\n",
       ")"
      ]
     },
     "execution_count": 31,
     "metadata": {},
     "output_type": "execute_result"
    }
   ],
   "source": [
    "# Load T5 tokenizer and model\n",
    "tokenizer = T5Tokenizer.from_pretrained('t5-small')  # You can also use 't5-base' or 't5-large'\n",
    "model = T5ForConditionalGeneration.from_pretrained('t5-small')\n",
    "\n",
    "# Move model to GPU if available\n",
    "device = torch.device('cuda' if torch.cuda.is_available() else 'cpu')\n",
    "model.to(device)"
   ]
  },
  {
   "cell_type": "markdown",
   "id": "9XgDveEJG8mA",
   "metadata": {
    "id": "9XgDveEJG8mA"
   },
   "source": [
    "## Modify Dataset Class for T5"
   ]
  },
  {
   "cell_type": "code",
   "execution_count": 32,
   "id": "QL9-LIRMG_9G",
   "metadata": {
    "id": "QL9-LIRMG_9G"
   },
   "outputs": [],
   "source": [
    "class DialogDataset(Dataset):\n",
    "    def __init__(self, data, tokenizer, max_length=512):\n",
    "        self.data = data\n",
    "        self.tokenizer = tokenizer\n",
    "        self.max_length = max_length\n",
    "\n",
    "    def __len__(self):\n",
    "        return len(self.data)\n",
    "\n",
    "    def __getitem__(self, idx):\n",
    "        input_text = self.data.iloc[idx]['cleaned_input']\n",
    "        response_text = self.data.iloc[idx]['cleaned_response']\n",
    "\n",
    "        # Prepare the text-to-text task in T5 format (input: \"dialogue: <input> </s>\" and target: \"<response> </s>\")\n",
    "        input_text = \"dialogue: \" + input_text + \" </s>\"\n",
    "        response_text = response_text + \" </s>\"\n",
    "\n",
    "        # Tokenize inputs and responses\n",
    "        input_ids = self.tokenizer.encode(input_text, return_tensors='pt', max_length=self.max_length, padding='max_length', truncation=True)\n",
    "        target_ids = self.tokenizer.encode(response_text, return_tensors='pt', max_length=self.max_length, padding='max_length', truncation=True)\n",
    "\n",
    "        return input_ids.squeeze(), target_ids.squeeze()"
   ]
  },
  {
   "cell_type": "markdown",
   "id": "3WQHJAkCHBjD",
   "metadata": {
    "id": "3WQHJAkCHBjD"
   },
   "source": [
    "## Create DataLoader for Training and Validation"
   ]
  },
  {
   "cell_type": "code",
   "execution_count": 33,
   "id": "pGkvHmDSHFSF",
   "metadata": {
    "id": "pGkvHmDSHFSF"
   },
   "outputs": [],
   "source": [
    "# Split dataset into training and validation\n",
    "train_size = int(0.8 * len(cleaned_dialog_df))\n",
    "val_size = len(cleaned_dialog_df) - train_size\n",
    "\n",
    "train_dataset = DialogDataset(train_data, tokenizer=tokenizer, max_length=50)\n",
    "val_dataset = DialogDataset(val_data, tokenizer=tokenizer, max_length=50)\n",
    "\n",
    "# DataLoader\n",
    "train_loader = DataLoader(train_dataset, batch_size=8, shuffle=True)\n",
    "val_loader = DataLoader(val_dataset, batch_size=8)"
   ]
  },
  {
   "cell_type": "markdown",
   "id": "YsGnA7dzHIIb",
   "metadata": {
    "id": "YsGnA7dzHIIb"
   },
   "source": [
    "## Model Training and Evaluation"
   ]
  },
  {
   "cell_type": "code",
   "execution_count": 34,
   "id": "PglxwCI1HK3u",
   "metadata": {
    "colab": {
     "base_uri": "https://localhost:8080/",
     "height": 0
    },
    "id": "PglxwCI1HK3u",
    "outputId": "bf911cc2-f501-48bf-bca7-1423b569f034"
   },
   "outputs": [
    {
     "name": "stderr",
     "output_type": "stream",
     "text": [
      "Training Epoch 1/3: 100%|██████████| 22129/22129 [3:31:00<00:00,  1.75it/s]  \n"
     ]
    },
    {
     "name": "stdout",
     "output_type": "stream",
     "text": [
      "Epoch 1/3, Average Training Loss: 0.8786\n"
     ]
    },
    {
     "name": "stderr",
     "output_type": "stream",
     "text": [
      "Validating: 100%|██████████| 2766/2766 [06:57<00:00,  6.63it/s]\n"
     ]
    },
    {
     "name": "stdout",
     "output_type": "stream",
     "text": [
      "Epoch 1, Average Validation Loss: 0.8150\n"
     ]
    },
    {
     "name": "stderr",
     "output_type": "stream",
     "text": [
      "Training Epoch 2/3: 100%|██████████| 22129/22129 [3:27:08<00:00,  1.78it/s]  \n"
     ]
    },
    {
     "name": "stdout",
     "output_type": "stream",
     "text": [
      "Epoch 2/3, Average Training Loss: 0.8337\n"
     ]
    },
    {
     "name": "stderr",
     "output_type": "stream",
     "text": [
      "Validating: 100%|██████████| 2766/2766 [07:07<00:00,  6.47it/s]\n"
     ]
    },
    {
     "name": "stdout",
     "output_type": "stream",
     "text": [
      "Epoch 2, Average Validation Loss: 0.8034\n"
     ]
    },
    {
     "name": "stderr",
     "output_type": "stream",
     "text": [
      "Training Epoch 3/3: 100%|██████████| 22129/22129 [5:31:41<00:00,  1.11it/s]  \n"
     ]
    },
    {
     "name": "stdout",
     "output_type": "stream",
     "text": [
      "Epoch 3/3, Average Training Loss: 0.8188\n"
     ]
    },
    {
     "name": "stderr",
     "output_type": "stream",
     "text": [
      "Validating: 100%|██████████| 2766/2766 [38:38<00:00,  1.19it/s]"
     ]
    },
    {
     "name": "stdout",
     "output_type": "stream",
     "text": [
      "Epoch 3, Average Validation Loss: 0.7984\n"
     ]
    },
    {
     "name": "stderr",
     "output_type": "stream",
     "text": [
      "\n"
     ]
    }
   ],
   "source": [
    "# Define optimizer\n",
    "optimizer = torch.optim.AdamW(model.parameters(), lr=1e-4)\n",
    "\n",
    "# Training loop\n",
    "num_epochs = 3\n",
    "for epoch in range(num_epochs):\n",
    "    model.train()\n",
    "    total_loss = 0\n",
    "\n",
    "    for batch in tqdm(train_loader, desc=f\"Training Epoch {epoch+1}/{num_epochs}\"):\n",
    "        input_ids, target_ids = batch\n",
    "        input_ids = input_ids.to(device)\n",
    "        target_ids = target_ids.to(device)\n",
    "\n",
    "        # Forward pass\n",
    "        outputs = model(input_ids=input_ids, labels=target_ids)\n",
    "        loss = outputs.loss\n",
    "\n",
    "        # Backward pass and optimization\n",
    "        optimizer.zero_grad()\n",
    "        loss.backward()\n",
    "        optimizer.step()\n",
    "\n",
    "        total_loss += loss.item()\n",
    "\n",
    "    avg_train_loss = total_loss / len(train_loader)\n",
    "    print(f\"Epoch {epoch+1}/{num_epochs}, Average Training Loss: {avg_train_loss:.4f}\")\n",
    "\n",
    "    # Validation loop (optional)\n",
    "    model.eval()\n",
    "    with torch.no_grad():\n",
    "        total_val_loss = 0\n",
    "        for batch in tqdm(val_loader, desc=\"Validating\"):\n",
    "            input_ids, target_ids = batch\n",
    "            input_ids = input_ids.to(device)\n",
    "            target_ids = target_ids.to(device)\n",
    "\n",
    "            outputs = model(input_ids=input_ids, labels=target_ids)\n",
    "            val_loss = outputs.loss\n",
    "            total_val_loss += val_loss.item()\n",
    "\n",
    "        avg_val_loss = total_val_loss / len(val_loader)\n",
    "        print(f\"Epoch {epoch+1}, Average Validation Loss: {avg_val_loss:.4f}\")"
   ]
  },
  {
   "cell_type": "markdown",
   "id": "jVFXY-NgXQ07",
   "metadata": {
    "id": "jVFXY-NgXQ07"
   },
   "source": [
    "The model's performance is improving across the three epochs. The decrease in both training and validation losses suggests that the model is learning effectively and generalizing well. The small gap between training and validation losses indicates good generalization, meaning the model is not just memorizing the training data but is likely to perform well on new, unseen data."
   ]
  },
  {
   "cell_type": "markdown",
   "id": "xLdiIDYdHsLZ",
   "metadata": {
    "id": "xLdiIDYdHsLZ"
   },
   "source": [
    "## T5 Model Responses"
   ]
  },
  {
   "cell_type": "code",
   "execution_count": 60,
   "id": "YCwz1f0KHwe4",
   "metadata": {
    "colab": {
     "base_uri": "https://localhost:8080/"
    },
    "id": "YCwz1f0KHwe4",
    "outputId": "f9b64842-ba1a-4ad0-ebfa-5ce3661efe29"
   },
   "outputs": [
    {
     "name": "stdout",
     "output_type": "stream",
     "text": [
      "Input: Hey, how's everything going with you?\n",
      "Response: oh well thats great thats great\n"
     ]
    }
   ],
   "source": [
    "def generate_response(input_text):\n",
    "    model.eval()\n",
    "    input_text = \"dialogue: \" + input_text + \" </s>\"\n",
    "    input_ids = tokenizer.encode(input_text, return_tensors='pt', max_length=512, truncation=True).to(device)\n",
    "\n",
    "    # Generate output\n",
    "    #output_ids = model.generate(input_ids, max_length=100, num_beams=5, early_stopping=True)\n",
    "    output_ids = model.generate(input_ids, max_length=100, min_length=10, do_sample=True, top_k=50, top_p=0.65, temperature=0.9)\n",
    "    response = tokenizer.decode(output_ids[0], skip_special_tokens=True)\n",
    "\n",
    "    return response\n",
    "\n",
    "# Example\n",
    "input_text = \"Hey, how's everything going with you?\" #\"How are you?\"\n",
    "response = generate_response(input_text)\n",
    "print(f\"Input: {input_text}\")\n",
    "print(f\"Response: {response}\")"
   ]
  },
  {
   "cell_type": "markdown",
   "id": "f0a1fd8e-46d6-46eb-99b7-b939b4b5df8b",
   "metadata": {},
   "source": [
    "## T5 Model Evaluation"
   ]
  },
  {
   "cell_type": "code",
   "execution_count": 65,
   "id": "86f3e7e4-e04b-4f42-a5ff-6762a60187d7",
   "metadata": {},
   "outputs": [
    {
     "name": "stderr",
     "output_type": "stream",
     "text": [
      "Evaluating: 100%|██████████| 2766/2766 [07:39<00:00,  6.03it/s]"
     ]
    },
    {
     "name": "stdout",
     "output_type": "stream",
     "text": [
      "Validation Loss: 0.7984\n"
     ]
    },
    {
     "name": "stderr",
     "output_type": "stream",
     "text": [
      "\n"
     ]
    }
   ],
   "source": [
    "# Function to evaluate model and print metrics\n",
    "def evaluate_model(model, dataloader, device):\n",
    "    model.eval()  # Set model to evaluation mode\n",
    "    total_loss = 0\n",
    "    all_predictions = []\n",
    "    all_targets = []\n",
    "    with torch.no_grad():  # Disable gradient calculation for evaluation\n",
    "        for batch in tqdm(dataloader, desc=\"Evaluating\"):\n",
    "            input_ids, target_ids = batch\n",
    "            input_ids = input_ids.to(device)\n",
    "            target_ids = target_ids.to(device)\n",
    "            # Forward pass\n",
    "            outputs = model(input_ids=input_ids, labels=target_ids)\n",
    "            val_loss = outputs.loss\n",
    "            total_loss += val_loss.item()\n",
    "            # Collect predictions and targets for metrics calculation\n",
    "            predicted_ids = torch.argmax(outputs.logits, dim=-1).cpu().numpy().flatten()\n",
    "            all_predictions.extend(predicted_ids)\n",
    "            all_targets.extend(target_ids.cpu().numpy().flatten())\n",
    "    avg_loss = total_loss / len(dataloader)\n",
    "    return avg_loss, all_predictions, all_targets\n",
    "    \n",
    "# Evaluate model on validation data after training\n",
    "val_loss, val_predictions, val_targets = evaluate_model(model, val_loader, device)\n",
    "print(f\"Validation Loss: {val_loss:.4f}\")"
   ]
  },
  {
   "cell_type": "markdown",
   "id": "1d09a026-a656-46bf-914e-b9a61d02ab02",
   "metadata": {},
   "source": [
    "## Evaluation Metrics of T5"
   ]
  },
  {
   "cell_type": "code",
   "execution_count": 69,
   "id": "abd1ea67-b067-4d52-9171-b1c92d8a651b",
   "metadata": {},
   "outputs": [],
   "source": [
    "from sklearn.metrics import precision_score,f1_score, recall_score, accuracy_score\n",
    "import matplotlib.pyplot as plt"
   ]
  },
  {
   "cell_type": "code",
   "execution_count": 70,
   "id": "927e1a59-6bde-4bdd-be7a-805e1e0551e4",
   "metadata": {},
   "outputs": [],
   "source": [
    "def evaluate_accuracy(predictions, references):\n",
    "    # Comparing each of the prediction with its reference\n",
    "    matches = [pred == ref for pred, ref in zip(predictions, references)]\n",
    "    \n",
    "    # Calculate accuracy\n",
    "    accuracy = accuracy_score(matches, [True] * len(matches))  # All references are correct\n",
    "    print(f\"Exact Match Accuracy: {accuracy:.4f}\")"
   ]
  },
  {
   "cell_type": "code",
   "execution_count": 71,
   "id": "62609e96-27a4-44d7-a27c-7e918781843a",
   "metadata": {},
   "outputs": [],
   "source": [
    "def evaluate_metrics(predictions, references):\n",
    "    all_preds = []\n",
    "    all_refs = []\n",
    "\n",
    "    for pred, ref in zip(predictions, references):\n",
    "        # Splitting into tokens\n",
    "        pred_tokens = pred.split()\n",
    "        ref_tokens = ref.split()\n",
    "        \n",
    "        # Align the lengths by padding with an empty string\n",
    "        max_len = max(len(pred_tokens), len(ref_tokens))\n",
    "        pred_tokens.extend([''] * (max_len - len(pred_tokens)))\n",
    "        ref_tokens.extend([''] * (max_len - len(ref_tokens)))\n",
    "        \n",
    "        all_preds.extend(pred_tokens)\n",
    "        all_refs.extend(ref_tokens)\n",
    "\n",
    "    precision = precision_score(all_refs, all_preds, average='macro', zero_division=1)\n",
    "    f1 = f1_score(all_refs, all_preds, average='macro', zero_division=1)\n",
    "    recall = recall_score(all_refs, all_preds, average='macro', zero_division=1)\n",
    "\n",
    "    print(f\"Model Precision is: {precision:.4f}\")\n",
    "    print(f\"Model F1-Score is: {f1:.4f}\")    \n",
    "    print(f\"Model Recall is: {recall:.4f}\")"
   ]
  },
  {
   "cell_type": "code",
   "execution_count": 72,
   "id": "97bb6a6c-cff3-4fa9-8b57-6cea8024b61e",
   "metadata": {},
   "outputs": [
    {
     "name": "stdout",
     "output_type": "stream",
     "text": [
      "Exact Match Accuracy: 0.0000\n",
      "Model Precision is: 0.5358\n",
      "Model F1-Score is: 0.0038\n",
      "Model Recall is: 0.1612\n"
     ]
    }
   ],
   "source": [
    "# Evaluating T5 predictions\n",
    "predictions = []\n",
    "references = []\n",
    "\n",
    "# Generate predictions for the validation set\n",
    "for idx, row in val_data.iterrows():\n",
    "    input_text = row['cleaned_input']\n",
    "    target_text = row['cleaned_response']\n",
    "    \n",
    "    # This refers to the model's generate method\n",
    "    prediction = generate_response(input_text)\n",
    "    \n",
    "    # Store the prediction and the reference (target)\n",
    "    predictions.append(prediction)\n",
    "    references.append(target_text)\n",
    "\n",
    "# Evaluate exact match accuracy\n",
    "evaluate_accuracy(predictions, references)\n",
    "\n",
    "# Evaluate token-level precision, recall, and F1\n",
    "evaluate_metrics(predictions, references)"
   ]
  },
  {
   "cell_type": "markdown",
   "id": "3a62de56-bec3-4a38-b9f5-00a4d1222496",
   "metadata": {},
   "source": [
    "These metrics evaluate how many words in the generated response match the reference. Since conversational responses can vary widely in phrasing, it's normal for the scores to be low, especially when measuring them at the token level. For the precision, 0.5358, suggests that some words in the generated responses are correct, however, F1 are much lower, indicating that many words in the reference responses are missing from the generated ones.\n",
    "\n",
    "By looking this up, better Evaluation is using BLEU Score (Bilingual Evaluation Understudy) and ROUGE Scores (Recall-Oriented Understudy for Gisting Evaluation).\n",
    "\n",
    "BLEU Score is a metric that evaluates the quality of generated text by comparing it to a set of reference responses. This is done by calculating on how many sequences of words in the generated text match those in the reference text.\n",
    "\n",
    "For ROUGE Score, it measures the overlap between the generated text and reference text. It’s often used in summarization tasks but works well in dialogue generation as well. Also, ROUGE-L is commonly used for measuring the longest common subsequence between the generated and reference responses."
   ]
  },
  {
   "cell_type": "code",
   "execution_count": 77,
   "id": "75f09431-0401-4583-9065-f4e121d23522",
   "metadata": {},
   "outputs": [
    {
     "name": "stdout",
     "output_type": "stream",
     "text": [
      "Requirement already satisfied: datasets in c:\\users\\saad\\anaconda3\\envs\\newp\\lib\\site-packages (2.19.1)\n",
      "Requirement already satisfied: filelock in c:\\users\\saad\\anaconda3\\envs\\newp\\lib\\site-packages (from datasets) (3.13.1)\n",
      "Requirement already satisfied: numpy>=1.17 in c:\\users\\saad\\anaconda3\\envs\\newp\\lib\\site-packages (from datasets) (1.26.4)\n",
      "Requirement already satisfied: pyarrow>=12.0.0 in c:\\users\\saad\\anaconda3\\envs\\newp\\lib\\site-packages (from datasets) (16.1.0)\n",
      "Requirement already satisfied: dill<0.3.9,>=0.3.0 in c:\\users\\saad\\anaconda3\\envs\\newp\\lib\\site-packages (from datasets) (0.3.8)\n",
      "Requirement already satisfied: pandas in c:\\users\\saad\\anaconda3\\envs\\newp\\lib\\site-packages (from datasets) (2.2.2)\n",
      "Requirement already satisfied: requests>=2.19.0 in c:\\users\\saad\\anaconda3\\envs\\newp\\lib\\site-packages (from datasets) (2.32.3)\n",
      "Requirement already satisfied: tqdm>=4.62.1 in c:\\users\\saad\\anaconda3\\envs\\newp\\lib\\site-packages (from datasets) (4.66.5)\n",
      "Requirement already satisfied: xxhash in c:\\users\\saad\\anaconda3\\envs\\newp\\lib\\site-packages (from datasets) (2.0.2)\n",
      "Requirement already satisfied: multiprocess in c:\\users\\saad\\anaconda3\\envs\\newp\\lib\\site-packages (from datasets) (0.70.15)\n",
      "Requirement already satisfied: fsspec<=2024.3.1,>=2023.1.0 in c:\\users\\saad\\anaconda3\\envs\\newp\\lib\\site-packages (from fsspec[http]<=2024.3.1,>=2023.1.0->datasets) (2024.3.1)\n",
      "Requirement already satisfied: aiohttp in c:\\users\\saad\\anaconda3\\envs\\newp\\lib\\site-packages (from datasets) (3.10.5)\n",
      "Requirement already satisfied: huggingface-hub>=0.21.2 in c:\\users\\saad\\anaconda3\\envs\\newp\\lib\\site-packages (from datasets) (0.24.6)\n",
      "Requirement already satisfied: packaging in c:\\users\\saad\\anaconda3\\envs\\newp\\lib\\site-packages (from datasets) (24.1)\n",
      "Requirement already satisfied: pyyaml>=5.1 in c:\\users\\saad\\anaconda3\\envs\\newp\\lib\\site-packages (from datasets) (6.0.1)\n",
      "Requirement already satisfied: aiohappyeyeballs>=2.3.0 in c:\\users\\saad\\anaconda3\\envs\\newp\\lib\\site-packages (from aiohttp->datasets) (2.4.0)\n",
      "Requirement already satisfied: aiosignal>=1.1.2 in c:\\users\\saad\\anaconda3\\envs\\newp\\lib\\site-packages (from aiohttp->datasets) (1.2.0)\n",
      "Requirement already satisfied: attrs>=17.3.0 in c:\\users\\saad\\anaconda3\\envs\\newp\\lib\\site-packages (from aiohttp->datasets) (23.1.0)\n",
      "Requirement already satisfied: frozenlist>=1.1.1 in c:\\users\\saad\\anaconda3\\envs\\newp\\lib\\site-packages (from aiohttp->datasets) (1.4.0)\n",
      "Requirement already satisfied: multidict<7.0,>=4.5 in c:\\users\\saad\\anaconda3\\envs\\newp\\lib\\site-packages (from aiohttp->datasets) (6.0.4)\n",
      "Requirement already satisfied: yarl<2.0,>=1.0 in c:\\users\\saad\\anaconda3\\envs\\newp\\lib\\site-packages (from aiohttp->datasets) (1.11.0)\n",
      "Requirement already satisfied: typing-extensions>=3.7.4.3 in c:\\users\\saad\\anaconda3\\envs\\newp\\lib\\site-packages (from huggingface-hub>=0.21.2->datasets) (4.11.0)\n",
      "Requirement already satisfied: charset-normalizer<4,>=2 in c:\\users\\saad\\anaconda3\\envs\\newp\\lib\\site-packages (from requests>=2.19.0->datasets) (3.3.2)\n",
      "Requirement already satisfied: idna<4,>=2.5 in c:\\users\\saad\\anaconda3\\envs\\newp\\lib\\site-packages (from requests>=2.19.0->datasets) (3.7)\n",
      "Requirement already satisfied: urllib3<3,>=1.21.1 in c:\\users\\saad\\anaconda3\\envs\\newp\\lib\\site-packages (from requests>=2.19.0->datasets) (2.2.2)\n",
      "Requirement already satisfied: certifi>=2017.4.17 in c:\\users\\saad\\anaconda3\\envs\\newp\\lib\\site-packages (from requests>=2.19.0->datasets) (2024.8.30)\n",
      "Requirement already satisfied: colorama in c:\\users\\saad\\anaconda3\\envs\\newp\\lib\\site-packages (from tqdm>=4.62.1->datasets) (0.4.6)\n",
      "Requirement already satisfied: python-dateutil>=2.8.2 in c:\\users\\saad\\anaconda3\\envs\\newp\\lib\\site-packages (from pandas->datasets) (2.9.0.post0)\n",
      "Requirement already satisfied: pytz>=2020.1 in c:\\users\\saad\\anaconda3\\envs\\newp\\lib\\site-packages (from pandas->datasets) (2024.1)\n",
      "Requirement already satisfied: tzdata>=2022.7 in c:\\users\\saad\\anaconda3\\envs\\newp\\lib\\site-packages (from pandas->datasets) (2023.3)\n",
      "Requirement already satisfied: six>=1.5 in c:\\users\\saad\\anaconda3\\envs\\newp\\lib\\site-packages (from python-dateutil>=2.8.2->pandas->datasets) (1.16.0)\n",
      "Collecting absl-py\n",
      "  Using cached absl_py-2.1.0-py3-none-any.whl.metadata (2.3 kB)\n",
      "Using cached absl_py-2.1.0-py3-none-any.whl (133 kB)\n",
      "Installing collected packages: absl-py\n",
      "Successfully installed absl-py-2.1.0\n",
      "Collecting rouge-score\n",
      "  Downloading rouge_score-0.1.2.tar.gz (17 kB)\n",
      "  Preparing metadata (setup.py): started\n",
      "  Preparing metadata (setup.py): finished with status 'done'\n",
      "Requirement already satisfied: absl-py in c:\\users\\saad\\anaconda3\\envs\\newp\\lib\\site-packages (from rouge-score) (2.1.0)\n",
      "Requirement already satisfied: nltk in c:\\users\\saad\\anaconda3\\envs\\newp\\lib\\site-packages (from rouge-score) (3.9.1)\n",
      "Requirement already satisfied: numpy in c:\\users\\saad\\anaconda3\\envs\\newp\\lib\\site-packages (from rouge-score) (1.26.4)\n",
      "Requirement already satisfied: six>=1.14.0 in c:\\users\\saad\\anaconda3\\envs\\newp\\lib\\site-packages (from rouge-score) (1.16.0)\n",
      "Requirement already satisfied: click in c:\\users\\saad\\anaconda3\\envs\\newp\\lib\\site-packages (from nltk->rouge-score) (8.1.7)\n",
      "Requirement already satisfied: joblib in c:\\users\\saad\\anaconda3\\envs\\newp\\lib\\site-packages (from nltk->rouge-score) (1.4.2)\n",
      "Requirement already satisfied: regex>=2021.8.3 in c:\\users\\saad\\anaconda3\\envs\\newp\\lib\\site-packages (from nltk->rouge-score) (2024.7.24)\n",
      "Requirement already satisfied: tqdm in c:\\users\\saad\\anaconda3\\envs\\newp\\lib\\site-packages (from nltk->rouge-score) (4.66.5)\n",
      "Requirement already satisfied: colorama in c:\\users\\saad\\anaconda3\\envs\\newp\\lib\\site-packages (from click->nltk->rouge-score) (0.4.6)\n",
      "Building wheels for collected packages: rouge-score\n",
      "  Building wheel for rouge-score (setup.py): started\n",
      "  Building wheel for rouge-score (setup.py): finished with status 'done'\n",
      "  Created wheel for rouge-score: filename=rouge_score-0.1.2-py3-none-any.whl size=24971 sha256=3d97ecab34079d4c8b6c57cee7c417ee551d7b19a0deb38ab2cfcb58cb920e1a\n",
      "  Stored in directory: c:\\users\\saad\\appdata\\local\\pip\\cache\\wheels\\85\\9d\\af\\01feefbe7d55ef5468796f0c68225b6788e85d9d0a281e7a70\n",
      "Successfully built rouge-score\n",
      "Installing collected packages: rouge-score\n",
      "Successfully installed rouge-score-0.1.2\n"
     ]
    }
   ],
   "source": [
    "!pip install datasets\n",
    "!pip install absl-py\n",
    "!pip install rouge-score"
   ]
  },
  {
   "cell_type": "code",
   "execution_count": 78,
   "id": "c939f075-4f07-40ff-b13a-dacadddbd08e",
   "metadata": {},
   "outputs": [],
   "source": [
    "from datasets import load_metric"
   ]
  },
  {
   "cell_type": "code",
   "execution_count": null,
   "id": "aec33948-f246-4e86-a80f-b4fed874b88a",
   "metadata": {},
   "outputs": [],
   "source": [
    "# Function to evaluate BLEU and ROUGE scores\n",
    "def evaluate_bleu_rouge(predictions, references):\n",
    "    tokenized_preds = [pred.split() for pred in predictions]\n",
    "    tokenized_refs = [[ref.split()] for ref in references]  # BLEU expects list of lists\n",
    "    \n",
    "    # Compute BLEU\n",
    "    bleu_score = bleu.compute(predictions=tokenized_preds, references=tokenized_refs)\n",
    "    print(f\"BLEU Score: {bleu_score['bleu']:.4f}\")\n",
    "    \n",
    "    # Compute ROUGE\n",
    "    rouge_score = rouge.compute(predictions=predictions, references=references)\n",
    "    rouge_l_precision = rouge_score['rougeL'].mid.precision\n",
    "    rouge_l_recall = rouge_score['rougeL'].mid.recall\n",
    "    rouge_l_f1 = rouge_score['rougeL'].mid.fmeasure\n",
    "    \n",
    "    print(f\"ROUGE-L Precision: {rouge_l_precision:.4f}\")\n",
    "    print(f\"ROUGE-L Recall: {rouge_l_recall:.4f}\")\n",
    "    print(f\"ROUGE-L F1-Score: {rouge_l_f1:.4f}\")\n",
    "\n",
    "# Generate model predictions for the validation set\n",
    "predictions = []\n",
    "references = []\n",
    "\n",
    "for idx, row in val_data.iterrows():\n",
    "    input_text = row['cleaned_input']  # Input from validation set\n",
    "    reference_text = row['cleaned_response']  # True reference response\n",
    "    \n",
    "    # Generate a prediction using the model\n",
    "    prediction = generate_response(input_text)\n",
    "    \n",
    "    # Append prediction and reference\n",
    "    predictions.append(prediction)\n",
    "    references.append(reference_text)\n",
    "\n",
    "# Evaluate the model's performance\n",
    "evaluate_bleu_rouge(predictions, references)"
   ]
  },
  {
   "cell_type": "code",
   "execution_count": null,
   "id": "e9057591-2cbf-4dd6-9319-5a58f568a9fb",
   "metadata": {},
   "outputs": [],
   "source": []
  }
 ],
 "metadata": {
  "accelerator": "GPU",
  "colab": {
   "gpuType": "A100",
   "machine_shape": "hm",
   "provenance": []
  },
  "kernelspec": {
   "display_name": "Python 3 (ipykernel)",
   "language": "python",
   "name": "python3"
  },
  "language_info": {
   "codemirror_mode": {
    "name": "ipython",
    "version": 3
   },
   "file_extension": ".py",
   "mimetype": "text/x-python",
   "name": "python",
   "nbconvert_exporter": "python",
   "pygments_lexer": "ipython3",
   "version": "3.12.5"
  },
  "widgets": {
   "application/vnd.jupyter.widget-state+json": {
    "02eb62f23fbe4f70a11f525d3eb3b41f": {
     "model_module": "@jupyter-widgets/base",
     "model_module_version": "1.2.0",
     "model_name": "LayoutModel",
     "state": {
      "_model_module": "@jupyter-widgets/base",
      "_model_module_version": "1.2.0",
      "_model_name": "LayoutModel",
      "_view_count": null,
      "_view_module": "@jupyter-widgets/base",
      "_view_module_version": "1.2.0",
      "_view_name": "LayoutView",
      "align_content": null,
      "align_items": null,
      "align_self": null,
      "border": null,
      "bottom": null,
      "display": null,
      "flex": null,
      "flex_flow": null,
      "grid_area": null,
      "grid_auto_columns": null,
      "grid_auto_flow": null,
      "grid_auto_rows": null,
      "grid_column": null,
      "grid_gap": null,
      "grid_row": null,
      "grid_template_areas": null,
      "grid_template_columns": null,
      "grid_template_rows": null,
      "height": null,
      "justify_content": null,
      "justify_items": null,
      "left": null,
      "margin": null,
      "max_height": null,
      "max_width": null,
      "min_height": null,
      "min_width": null,
      "object_fit": null,
      "object_position": null,
      "order": null,
      "overflow": null,
      "overflow_x": null,
      "overflow_y": null,
      "padding": null,
      "right": null,
      "top": null,
      "visibility": null,
      "width": null
     }
    },
    "041f75fb2e8d41e5af2e5ab0ea9877b2": {
     "model_module": "@jupyter-widgets/base",
     "model_module_version": "1.2.0",
     "model_name": "LayoutModel",
     "state": {
      "_model_module": "@jupyter-widgets/base",
      "_model_module_version": "1.2.0",
      "_model_name": "LayoutModel",
      "_view_count": null,
      "_view_module": "@jupyter-widgets/base",
      "_view_module_version": "1.2.0",
      "_view_name": "LayoutView",
      "align_content": null,
      "align_items": null,
      "align_self": null,
      "border": null,
      "bottom": null,
      "display": null,
      "flex": null,
      "flex_flow": null,
      "grid_area": null,
      "grid_auto_columns": null,
      "grid_auto_flow": null,
      "grid_auto_rows": null,
      "grid_column": null,
      "grid_gap": null,
      "grid_row": null,
      "grid_template_areas": null,
      "grid_template_columns": null,
      "grid_template_rows": null,
      "height": null,
      "justify_content": null,
      "justify_items": null,
      "left": null,
      "margin": null,
      "max_height": null,
      "max_width": null,
      "min_height": null,
      "min_width": null,
      "object_fit": null,
      "object_position": null,
      "order": null,
      "overflow": null,
      "overflow_x": null,
      "overflow_y": null,
      "padding": null,
      "right": null,
      "top": null,
      "visibility": null,
      "width": null
     }
    },
    "05cecf0f15a84beab0990479849c6d21": {
     "model_module": "@jupyter-widgets/controls",
     "model_module_version": "1.5.0",
     "model_name": "ProgressStyleModel",
     "state": {
      "_model_module": "@jupyter-widgets/controls",
      "_model_module_version": "1.5.0",
      "_model_name": "ProgressStyleModel",
      "_view_count": null,
      "_view_module": "@jupyter-widgets/base",
      "_view_module_version": "1.2.0",
      "_view_name": "StyleView",
      "bar_color": null,
      "description_width": ""
     }
    },
    "0f794a17547949bcb785691e52944895": {
     "model_module": "@jupyter-widgets/controls",
     "model_module_version": "1.5.0",
     "model_name": "ProgressStyleModel",
     "state": {
      "_model_module": "@jupyter-widgets/controls",
      "_model_module_version": "1.5.0",
      "_model_name": "ProgressStyleModel",
      "_view_count": null,
      "_view_module": "@jupyter-widgets/base",
      "_view_module_version": "1.2.0",
      "_view_name": "StyleView",
      "bar_color": null,
      "description_width": ""
     }
    },
    "16e314ff98e648a886c98e37c63cf6ba": {
     "model_module": "@jupyter-widgets/base",
     "model_module_version": "1.2.0",
     "model_name": "LayoutModel",
     "state": {
      "_model_module": "@jupyter-widgets/base",
      "_model_module_version": "1.2.0",
      "_model_name": "LayoutModel",
      "_view_count": null,
      "_view_module": "@jupyter-widgets/base",
      "_view_module_version": "1.2.0",
      "_view_name": "LayoutView",
      "align_content": null,
      "align_items": null,
      "align_self": null,
      "border": null,
      "bottom": null,
      "display": null,
      "flex": null,
      "flex_flow": null,
      "grid_area": null,
      "grid_auto_columns": null,
      "grid_auto_flow": null,
      "grid_auto_rows": null,
      "grid_column": null,
      "grid_gap": null,
      "grid_row": null,
      "grid_template_areas": null,
      "grid_template_columns": null,
      "grid_template_rows": null,
      "height": null,
      "justify_content": null,
      "justify_items": null,
      "left": null,
      "margin": null,
      "max_height": null,
      "max_width": null,
      "min_height": null,
      "min_width": null,
      "object_fit": null,
      "object_position": null,
      "order": null,
      "overflow": null,
      "overflow_x": null,
      "overflow_y": null,
      "padding": null,
      "right": null,
      "top": null,
      "visibility": null,
      "width": null
     }
    },
    "197427a736ac45508db978cd31512b7f": {
     "model_module": "@jupyter-widgets/controls",
     "model_module_version": "1.5.0",
     "model_name": "DescriptionStyleModel",
     "state": {
      "_model_module": "@jupyter-widgets/controls",
      "_model_module_version": "1.5.0",
      "_model_name": "DescriptionStyleModel",
      "_view_count": null,
      "_view_module": "@jupyter-widgets/base",
      "_view_module_version": "1.2.0",
      "_view_name": "StyleView",
      "description_width": ""
     }
    },
    "1a75aacd223a45958b85c8d23f901253": {
     "model_module": "@jupyter-widgets/controls",
     "model_module_version": "1.5.0",
     "model_name": "DescriptionStyleModel",
     "state": {
      "_model_module": "@jupyter-widgets/controls",
      "_model_module_version": "1.5.0",
      "_model_name": "DescriptionStyleModel",
      "_view_count": null,
      "_view_module": "@jupyter-widgets/base",
      "_view_module_version": "1.2.0",
      "_view_name": "StyleView",
      "description_width": ""
     }
    },
    "1bb7b00301f749d6abdc0749d8d29a63": {
     "model_module": "@jupyter-widgets/base",
     "model_module_version": "1.2.0",
     "model_name": "LayoutModel",
     "state": {
      "_model_module": "@jupyter-widgets/base",
      "_model_module_version": "1.2.0",
      "_model_name": "LayoutModel",
      "_view_count": null,
      "_view_module": "@jupyter-widgets/base",
      "_view_module_version": "1.2.0",
      "_view_name": "LayoutView",
      "align_content": null,
      "align_items": null,
      "align_self": null,
      "border": null,
      "bottom": null,
      "display": null,
      "flex": null,
      "flex_flow": null,
      "grid_area": null,
      "grid_auto_columns": null,
      "grid_auto_flow": null,
      "grid_auto_rows": null,
      "grid_column": null,
      "grid_gap": null,
      "grid_row": null,
      "grid_template_areas": null,
      "grid_template_columns": null,
      "grid_template_rows": null,
      "height": null,
      "justify_content": null,
      "justify_items": null,
      "left": null,
      "margin": null,
      "max_height": null,
      "max_width": null,
      "min_height": null,
      "min_width": null,
      "object_fit": null,
      "object_position": null,
      "order": null,
      "overflow": null,
      "overflow_x": null,
      "overflow_y": null,
      "padding": null,
      "right": null,
      "top": null,
      "visibility": null,
      "width": null
     }
    },
    "237b171c8d21401b8aca7deb1b0c13df": {
     "model_module": "@jupyter-widgets/base",
     "model_module_version": "1.2.0",
     "model_name": "LayoutModel",
     "state": {
      "_model_module": "@jupyter-widgets/base",
      "_model_module_version": "1.2.0",
      "_model_name": "LayoutModel",
      "_view_count": null,
      "_view_module": "@jupyter-widgets/base",
      "_view_module_version": "1.2.0",
      "_view_name": "LayoutView",
      "align_content": null,
      "align_items": null,
      "align_self": null,
      "border": null,
      "bottom": null,
      "display": null,
      "flex": null,
      "flex_flow": null,
      "grid_area": null,
      "grid_auto_columns": null,
      "grid_auto_flow": null,
      "grid_auto_rows": null,
      "grid_column": null,
      "grid_gap": null,
      "grid_row": null,
      "grid_template_areas": null,
      "grid_template_columns": null,
      "grid_template_rows": null,
      "height": null,
      "justify_content": null,
      "justify_items": null,
      "left": null,
      "margin": null,
      "max_height": null,
      "max_width": null,
      "min_height": null,
      "min_width": null,
      "object_fit": null,
      "object_position": null,
      "order": null,
      "overflow": null,
      "overflow_x": null,
      "overflow_y": null,
      "padding": null,
      "right": null,
      "top": null,
      "visibility": null,
      "width": null
     }
    },
    "2c19b2f7dc0d4bfe959856a7484699e6": {
     "model_module": "@jupyter-widgets/controls",
     "model_module_version": "1.5.0",
     "model_name": "HBoxModel",
     "state": {
      "_dom_classes": [],
      "_model_module": "@jupyter-widgets/controls",
      "_model_module_version": "1.5.0",
      "_model_name": "HBoxModel",
      "_view_count": null,
      "_view_module": "@jupyter-widgets/controls",
      "_view_module_version": "1.5.0",
      "_view_name": "HBoxView",
      "box_style": "",
      "children": [
       "IPY_MODEL_8b772e8bdc864de0a700b949465a0ffd",
       "IPY_MODEL_9326ff9b12a84d92af1bfe7751382740",
       "IPY_MODEL_2ee2fe03bf044dd2aec2ec4cb154ecca"
      ],
      "layout": "IPY_MODEL_2eea47fd46f34209bc96f4d251bdccac"
     }
    },
    "2ee2fe03bf044dd2aec2ec4cb154ecca": {
     "model_module": "@jupyter-widgets/controls",
     "model_module_version": "1.5.0",
     "model_name": "HTMLModel",
     "state": {
      "_dom_classes": [],
      "_model_module": "@jupyter-widgets/controls",
      "_model_module_version": "1.5.0",
      "_model_name": "HTMLModel",
      "_view_count": null,
      "_view_module": "@jupyter-widgets/controls",
      "_view_module_version": "1.5.0",
      "_view_name": "HTMLView",
      "description": "",
      "description_tooltip": null,
      "layout": "IPY_MODEL_8b2ff2b7b4c54ef7bd4333c98b590537",
      "placeholder": "​",
      "style": "IPY_MODEL_8b2c339719cf43f389a9c431b199c77b",
      "value": " 1.21k/1.21k [00:00&lt;00:00, 92.3kB/s]"
     }
    },
    "2eea47fd46f34209bc96f4d251bdccac": {
     "model_module": "@jupyter-widgets/base",
     "model_module_version": "1.2.0",
     "model_name": "LayoutModel",
     "state": {
      "_model_module": "@jupyter-widgets/base",
      "_model_module_version": "1.2.0",
      "_model_name": "LayoutModel",
      "_view_count": null,
      "_view_module": "@jupyter-widgets/base",
      "_view_module_version": "1.2.0",
      "_view_name": "LayoutView",
      "align_content": null,
      "align_items": null,
      "align_self": null,
      "border": null,
      "bottom": null,
      "display": null,
      "flex": null,
      "flex_flow": null,
      "grid_area": null,
      "grid_auto_columns": null,
      "grid_auto_flow": null,
      "grid_auto_rows": null,
      "grid_column": null,
      "grid_gap": null,
      "grid_row": null,
      "grid_template_areas": null,
      "grid_template_columns": null,
      "grid_template_rows": null,
      "height": null,
      "justify_content": null,
      "justify_items": null,
      "left": null,
      "margin": null,
      "max_height": null,
      "max_width": null,
      "min_height": null,
      "min_width": null,
      "object_fit": null,
      "object_position": null,
      "order": null,
      "overflow": null,
      "overflow_x": null,
      "overflow_y": null,
      "padding": null,
      "right": null,
      "top": null,
      "visibility": null,
      "width": null
     }
    },
    "31b76d2e43ac478cb0149b68d1003e9c": {
     "model_module": "@jupyter-widgets/controls",
     "model_module_version": "1.5.0",
     "model_name": "ProgressStyleModel",
     "state": {
      "_model_module": "@jupyter-widgets/controls",
      "_model_module_version": "1.5.0",
      "_model_name": "ProgressStyleModel",
      "_view_count": null,
      "_view_module": "@jupyter-widgets/base",
      "_view_module_version": "1.2.0",
      "_view_name": "StyleView",
      "bar_color": null,
      "description_width": ""
     }
    },
    "469be8e0ab464bc6a2c3639f15912e85": {
     "model_module": "@jupyter-widgets/base",
     "model_module_version": "1.2.0",
     "model_name": "LayoutModel",
     "state": {
      "_model_module": "@jupyter-widgets/base",
      "_model_module_version": "1.2.0",
      "_model_name": "LayoutModel",
      "_view_count": null,
      "_view_module": "@jupyter-widgets/base",
      "_view_module_version": "1.2.0",
      "_view_name": "LayoutView",
      "align_content": null,
      "align_items": null,
      "align_self": null,
      "border": null,
      "bottom": null,
      "display": null,
      "flex": null,
      "flex_flow": null,
      "grid_area": null,
      "grid_auto_columns": null,
      "grid_auto_flow": null,
      "grid_auto_rows": null,
      "grid_column": null,
      "grid_gap": null,
      "grid_row": null,
      "grid_template_areas": null,
      "grid_template_columns": null,
      "grid_template_rows": null,
      "height": null,
      "justify_content": null,
      "justify_items": null,
      "left": null,
      "margin": null,
      "max_height": null,
      "max_width": null,
      "min_height": null,
      "min_width": null,
      "object_fit": null,
      "object_position": null,
      "order": null,
      "overflow": null,
      "overflow_x": null,
      "overflow_y": null,
      "padding": null,
      "right": null,
      "top": null,
      "visibility": null,
      "width": null
     }
    },
    "4709d6b07e8c48b2b2072919d2dde6ba": {
     "model_module": "@jupyter-widgets/base",
     "model_module_version": "1.2.0",
     "model_name": "LayoutModel",
     "state": {
      "_model_module": "@jupyter-widgets/base",
      "_model_module_version": "1.2.0",
      "_model_name": "LayoutModel",
      "_view_count": null,
      "_view_module": "@jupyter-widgets/base",
      "_view_module_version": "1.2.0",
      "_view_name": "LayoutView",
      "align_content": null,
      "align_items": null,
      "align_self": null,
      "border": null,
      "bottom": null,
      "display": null,
      "flex": null,
      "flex_flow": null,
      "grid_area": null,
      "grid_auto_columns": null,
      "grid_auto_flow": null,
      "grid_auto_rows": null,
      "grid_column": null,
      "grid_gap": null,
      "grid_row": null,
      "grid_template_areas": null,
      "grid_template_columns": null,
      "grid_template_rows": null,
      "height": null,
      "justify_content": null,
      "justify_items": null,
      "left": null,
      "margin": null,
      "max_height": null,
      "max_width": null,
      "min_height": null,
      "min_width": null,
      "object_fit": null,
      "object_position": null,
      "order": null,
      "overflow": null,
      "overflow_x": null,
      "overflow_y": null,
      "padding": null,
      "right": null,
      "top": null,
      "visibility": null,
      "width": null
     }
    },
    "4ab09560d5694d6586561cbb44f8f56f": {
     "model_module": "@jupyter-widgets/controls",
     "model_module_version": "1.5.0",
     "model_name": "ProgressStyleModel",
     "state": {
      "_model_module": "@jupyter-widgets/controls",
      "_model_module_version": "1.5.0",
      "_model_name": "ProgressStyleModel",
      "_view_count": null,
      "_view_module": "@jupyter-widgets/base",
      "_view_module_version": "1.2.0",
      "_view_name": "StyleView",
      "bar_color": null,
      "description_width": ""
     }
    },
    "51056a510b7e4acf998976de91ef536f": {
     "model_module": "@jupyter-widgets/controls",
     "model_module_version": "1.5.0",
     "model_name": "HTMLModel",
     "state": {
      "_dom_classes": [],
      "_model_module": "@jupyter-widgets/controls",
      "_model_module_version": "1.5.0",
      "_model_name": "HTMLModel",
      "_view_count": null,
      "_view_module": "@jupyter-widgets/controls",
      "_view_module_version": "1.5.0",
      "_view_name": "HTMLView",
      "description": "",
      "description_tooltip": null,
      "layout": "IPY_MODEL_7cf3b9babfb64871ab408979a7001bce",
      "placeholder": "​",
      "style": "IPY_MODEL_778d0cd7bb334ded9abbc33b844a5e0e",
      "value": "model.safetensors: 100%"
     }
    },
    "5547836833c94cb6822a748c1fdaa442": {
     "model_module": "@jupyter-widgets/controls",
     "model_module_version": "1.5.0",
     "model_name": "DescriptionStyleModel",
     "state": {
      "_model_module": "@jupyter-widgets/controls",
      "_model_module_version": "1.5.0",
      "_model_name": "DescriptionStyleModel",
      "_view_count": null,
      "_view_module": "@jupyter-widgets/base",
      "_view_module_version": "1.2.0",
      "_view_name": "StyleView",
      "description_width": ""
     }
    },
    "6267ba91ef634b1da27041f30ac51e23": {
     "model_module": "@jupyter-widgets/controls",
     "model_module_version": "1.5.0",
     "model_name": "HBoxModel",
     "state": {
      "_dom_classes": [],
      "_model_module": "@jupyter-widgets/controls",
      "_model_module_version": "1.5.0",
      "_model_name": "HBoxModel",
      "_view_count": null,
      "_view_module": "@jupyter-widgets/controls",
      "_view_module_version": "1.5.0",
      "_view_name": "HBoxView",
      "box_style": "",
      "children": [
       "IPY_MODEL_eb6dfe36d8b64588a9f4d9285d70ea0f",
       "IPY_MODEL_68ae36807e2e4fc69ec96f18408a4b4d",
       "IPY_MODEL_dda9af6f091b4bf7b0d929eb1f6f8cca"
      ],
      "layout": "IPY_MODEL_ef8c8ee15f724d6ba9b91086ff8b1075"
     }
    },
    "66695517b2714201b65b5717142855f2": {
     "model_module": "@jupyter-widgets/controls",
     "model_module_version": "1.5.0",
     "model_name": "HBoxModel",
     "state": {
      "_dom_classes": [],
      "_model_module": "@jupyter-widgets/controls",
      "_model_module_version": "1.5.0",
      "_model_name": "HBoxModel",
      "_view_count": null,
      "_view_module": "@jupyter-widgets/controls",
      "_view_module_version": "1.5.0",
      "_view_name": "HBoxView",
      "box_style": "",
      "children": [
       "IPY_MODEL_c9825fd67edd431cbde3234b8e180b4e",
       "IPY_MODEL_8b323cbf73a74a189b243099603701ed",
       "IPY_MODEL_7333c6113f854a86ab30ebdea304d511"
      ],
      "layout": "IPY_MODEL_b7a4a05c0cb541848a30804bd6056a46"
     }
    },
    "68ae36807e2e4fc69ec96f18408a4b4d": {
     "model_module": "@jupyter-widgets/controls",
     "model_module_version": "1.5.0",
     "model_name": "FloatProgressModel",
     "state": {
      "_dom_classes": [],
      "_model_module": "@jupyter-widgets/controls",
      "_model_module_version": "1.5.0",
      "_model_name": "FloatProgressModel",
      "_view_count": null,
      "_view_module": "@jupyter-widgets/controls",
      "_view_module_version": "1.5.0",
      "_view_name": "ProgressView",
      "bar_style": "success",
      "description": "",
      "description_tooltip": null,
      "layout": "IPY_MODEL_16e314ff98e648a886c98e37c63cf6ba",
      "max": 2324,
      "min": 0,
      "orientation": "horizontal",
      "style": "IPY_MODEL_05cecf0f15a84beab0990479849c6d21",
      "value": 2324
     }
    },
    "6c4d110841564c458578932d3c7f2c63": {
     "model_module": "@jupyter-widgets/controls",
     "model_module_version": "1.5.0",
     "model_name": "HTMLModel",
     "state": {
      "_dom_classes": [],
      "_model_module": "@jupyter-widgets/controls",
      "_model_module_version": "1.5.0",
      "_model_name": "HTMLModel",
      "_view_count": null,
      "_view_module": "@jupyter-widgets/controls",
      "_view_module_version": "1.5.0",
      "_view_name": "HTMLView",
      "description": "",
      "description_tooltip": null,
      "layout": "IPY_MODEL_041f75fb2e8d41e5af2e5ab0ea9877b2",
      "placeholder": "​",
      "style": "IPY_MODEL_5547836833c94cb6822a748c1fdaa442",
      "value": "generation_config.json: 100%"
     }
    },
    "7309b84e7ace486ba8f403c21e85d0f0": {
     "model_module": "@jupyter-widgets/base",
     "model_module_version": "1.2.0",
     "model_name": "LayoutModel",
     "state": {
      "_model_module": "@jupyter-widgets/base",
      "_model_module_version": "1.2.0",
      "_model_name": "LayoutModel",
      "_view_count": null,
      "_view_module": "@jupyter-widgets/base",
      "_view_module_version": "1.2.0",
      "_view_name": "LayoutView",
      "align_content": null,
      "align_items": null,
      "align_self": null,
      "border": null,
      "bottom": null,
      "display": null,
      "flex": null,
      "flex_flow": null,
      "grid_area": null,
      "grid_auto_columns": null,
      "grid_auto_flow": null,
      "grid_auto_rows": null,
      "grid_column": null,
      "grid_gap": null,
      "grid_row": null,
      "grid_template_areas": null,
      "grid_template_columns": null,
      "grid_template_rows": null,
      "height": null,
      "justify_content": null,
      "justify_items": null,
      "left": null,
      "margin": null,
      "max_height": null,
      "max_width": null,
      "min_height": null,
      "min_width": null,
      "object_fit": null,
      "object_position": null,
      "order": null,
      "overflow": null,
      "overflow_x": null,
      "overflow_y": null,
      "padding": null,
      "right": null,
      "top": null,
      "visibility": null,
      "width": null
     }
    },
    "7333c6113f854a86ab30ebdea304d511": {
     "model_module": "@jupyter-widgets/controls",
     "model_module_version": "1.5.0",
     "model_name": "HTMLModel",
     "state": {
      "_dom_classes": [],
      "_model_module": "@jupyter-widgets/controls",
      "_model_module_version": "1.5.0",
      "_model_name": "HTMLModel",
      "_view_count": null,
      "_view_module": "@jupyter-widgets/controls",
      "_view_module_version": "1.5.0",
      "_view_name": "HTMLView",
      "description": "",
      "description_tooltip": null,
      "layout": "IPY_MODEL_af73837bc5c44ea5b2fcc4374ed20063",
      "placeholder": "​",
      "style": "IPY_MODEL_197427a736ac45508db978cd31512b7f",
      "value": " 1.39M/1.39M [00:00&lt;00:00, 28.1MB/s]"
     }
    },
    "73a7a9b1e7564ea3865a4a54f60df590": {
     "model_module": "@jupyter-widgets/base",
     "model_module_version": "1.2.0",
     "model_name": "LayoutModel",
     "state": {
      "_model_module": "@jupyter-widgets/base",
      "_model_module_version": "1.2.0",
      "_model_name": "LayoutModel",
      "_view_count": null,
      "_view_module": "@jupyter-widgets/base",
      "_view_module_version": "1.2.0",
      "_view_name": "LayoutView",
      "align_content": null,
      "align_items": null,
      "align_self": null,
      "border": null,
      "bottom": null,
      "display": null,
      "flex": null,
      "flex_flow": null,
      "grid_area": null,
      "grid_auto_columns": null,
      "grid_auto_flow": null,
      "grid_auto_rows": null,
      "grid_column": null,
      "grid_gap": null,
      "grid_row": null,
      "grid_template_areas": null,
      "grid_template_columns": null,
      "grid_template_rows": null,
      "height": null,
      "justify_content": null,
      "justify_items": null,
      "left": null,
      "margin": null,
      "max_height": null,
      "max_width": null,
      "min_height": null,
      "min_width": null,
      "object_fit": null,
      "object_position": null,
      "order": null,
      "overflow": null,
      "overflow_x": null,
      "overflow_y": null,
      "padding": null,
      "right": null,
      "top": null,
      "visibility": null,
      "width": null
     }
    },
    "76ebd7fb325b42dcaa7d4c9aa81db458": {
     "model_module": "@jupyter-widgets/controls",
     "model_module_version": "1.5.0",
     "model_name": "DescriptionStyleModel",
     "state": {
      "_model_module": "@jupyter-widgets/controls",
      "_model_module_version": "1.5.0",
      "_model_name": "DescriptionStyleModel",
      "_view_count": null,
      "_view_module": "@jupyter-widgets/base",
      "_view_module_version": "1.2.0",
      "_view_name": "StyleView",
      "description_width": ""
     }
    },
    "778d0cd7bb334ded9abbc33b844a5e0e": {
     "model_module": "@jupyter-widgets/controls",
     "model_module_version": "1.5.0",
     "model_name": "DescriptionStyleModel",
     "state": {
      "_model_module": "@jupyter-widgets/controls",
      "_model_module_version": "1.5.0",
      "_model_name": "DescriptionStyleModel",
      "_view_count": null,
      "_view_module": "@jupyter-widgets/base",
      "_view_module_version": "1.2.0",
      "_view_name": "StyleView",
      "description_width": ""
     }
    },
    "7c80b092ec024bc3808d99aa613b483d": {
     "model_module": "@jupyter-widgets/controls",
     "model_module_version": "1.5.0",
     "model_name": "HBoxModel",
     "state": {
      "_dom_classes": [],
      "_model_module": "@jupyter-widgets/controls",
      "_model_module_version": "1.5.0",
      "_model_name": "HBoxModel",
      "_view_count": null,
      "_view_module": "@jupyter-widgets/controls",
      "_view_module_version": "1.5.0",
      "_view_name": "HBoxView",
      "box_style": "",
      "children": [
       "IPY_MODEL_51056a510b7e4acf998976de91ef536f",
       "IPY_MODEL_a6f33305252e45168e0db1a2ece62dac",
       "IPY_MODEL_bb01388adc664f05a5d86a60d0b024b8"
      ],
      "layout": "IPY_MODEL_8432dc7c0d6c4948901ec8d9c6d88645"
     }
    },
    "7cf3b9babfb64871ab408979a7001bce": {
     "model_module": "@jupyter-widgets/base",
     "model_module_version": "1.2.0",
     "model_name": "LayoutModel",
     "state": {
      "_model_module": "@jupyter-widgets/base",
      "_model_module_version": "1.2.0",
      "_model_name": "LayoutModel",
      "_view_count": null,
      "_view_module": "@jupyter-widgets/base",
      "_view_module_version": "1.2.0",
      "_view_name": "LayoutView",
      "align_content": null,
      "align_items": null,
      "align_self": null,
      "border": null,
      "bottom": null,
      "display": null,
      "flex": null,
      "flex_flow": null,
      "grid_area": null,
      "grid_auto_columns": null,
      "grid_auto_flow": null,
      "grid_auto_rows": null,
      "grid_column": null,
      "grid_gap": null,
      "grid_row": null,
      "grid_template_areas": null,
      "grid_template_columns": null,
      "grid_template_rows": null,
      "height": null,
      "justify_content": null,
      "justify_items": null,
      "left": null,
      "margin": null,
      "max_height": null,
      "max_width": null,
      "min_height": null,
      "min_width": null,
      "object_fit": null,
      "object_position": null,
      "order": null,
      "overflow": null,
      "overflow_x": null,
      "overflow_y": null,
      "padding": null,
      "right": null,
      "top": null,
      "visibility": null,
      "width": null
     }
    },
    "8432dc7c0d6c4948901ec8d9c6d88645": {
     "model_module": "@jupyter-widgets/base",
     "model_module_version": "1.2.0",
     "model_name": "LayoutModel",
     "state": {
      "_model_module": "@jupyter-widgets/base",
      "_model_module_version": "1.2.0",
      "_model_name": "LayoutModel",
      "_view_count": null,
      "_view_module": "@jupyter-widgets/base",
      "_view_module_version": "1.2.0",
      "_view_name": "LayoutView",
      "align_content": null,
      "align_items": null,
      "align_self": null,
      "border": null,
      "bottom": null,
      "display": null,
      "flex": null,
      "flex_flow": null,
      "grid_area": null,
      "grid_auto_columns": null,
      "grid_auto_flow": null,
      "grid_auto_rows": null,
      "grid_column": null,
      "grid_gap": null,
      "grid_row": null,
      "grid_template_areas": null,
      "grid_template_columns": null,
      "grid_template_rows": null,
      "height": null,
      "justify_content": null,
      "justify_items": null,
      "left": null,
      "margin": null,
      "max_height": null,
      "max_width": null,
      "min_height": null,
      "min_width": null,
      "object_fit": null,
      "object_position": null,
      "order": null,
      "overflow": null,
      "overflow_x": null,
      "overflow_y": null,
      "padding": null,
      "right": null,
      "top": null,
      "visibility": null,
      "width": null
     }
    },
    "8b2c339719cf43f389a9c431b199c77b": {
     "model_module": "@jupyter-widgets/controls",
     "model_module_version": "1.5.0",
     "model_name": "DescriptionStyleModel",
     "state": {
      "_model_module": "@jupyter-widgets/controls",
      "_model_module_version": "1.5.0",
      "_model_name": "DescriptionStyleModel",
      "_view_count": null,
      "_view_module": "@jupyter-widgets/base",
      "_view_module_version": "1.2.0",
      "_view_name": "StyleView",
      "description_width": ""
     }
    },
    "8b2ff2b7b4c54ef7bd4333c98b590537": {
     "model_module": "@jupyter-widgets/base",
     "model_module_version": "1.2.0",
     "model_name": "LayoutModel",
     "state": {
      "_model_module": "@jupyter-widgets/base",
      "_model_module_version": "1.2.0",
      "_model_name": "LayoutModel",
      "_view_count": null,
      "_view_module": "@jupyter-widgets/base",
      "_view_module_version": "1.2.0",
      "_view_name": "LayoutView",
      "align_content": null,
      "align_items": null,
      "align_self": null,
      "border": null,
      "bottom": null,
      "display": null,
      "flex": null,
      "flex_flow": null,
      "grid_area": null,
      "grid_auto_columns": null,
      "grid_auto_flow": null,
      "grid_auto_rows": null,
      "grid_column": null,
      "grid_gap": null,
      "grid_row": null,
      "grid_template_areas": null,
      "grid_template_columns": null,
      "grid_template_rows": null,
      "height": null,
      "justify_content": null,
      "justify_items": null,
      "left": null,
      "margin": null,
      "max_height": null,
      "max_width": null,
      "min_height": null,
      "min_width": null,
      "object_fit": null,
      "object_position": null,
      "order": null,
      "overflow": null,
      "overflow_x": null,
      "overflow_y": null,
      "padding": null,
      "right": null,
      "top": null,
      "visibility": null,
      "width": null
     }
    },
    "8b323cbf73a74a189b243099603701ed": {
     "model_module": "@jupyter-widgets/controls",
     "model_module_version": "1.5.0",
     "model_name": "FloatProgressModel",
     "state": {
      "_dom_classes": [],
      "_model_module": "@jupyter-widgets/controls",
      "_model_module_version": "1.5.0",
      "_model_name": "FloatProgressModel",
      "_view_count": null,
      "_view_module": "@jupyter-widgets/controls",
      "_view_module_version": "1.5.0",
      "_view_name": "ProgressView",
      "bar_style": "success",
      "description": "",
      "description_tooltip": null,
      "layout": "IPY_MODEL_fc8842beb4324f89b4952c33f4a93858",
      "max": 1389353,
      "min": 0,
      "orientation": "horizontal",
      "style": "IPY_MODEL_c4b5060aba0147eea590eede176dc567",
      "value": 1389353
     }
    },
    "8b772e8bdc864de0a700b949465a0ffd": {
     "model_module": "@jupyter-widgets/controls",
     "model_module_version": "1.5.0",
     "model_name": "HTMLModel",
     "state": {
      "_dom_classes": [],
      "_model_module": "@jupyter-widgets/controls",
      "_model_module_version": "1.5.0",
      "_model_name": "HTMLModel",
      "_view_count": null,
      "_view_module": "@jupyter-widgets/controls",
      "_view_module_version": "1.5.0",
      "_view_name": "HTMLView",
      "description": "",
      "description_tooltip": null,
      "layout": "IPY_MODEL_4709d6b07e8c48b2b2072919d2dde6ba",
      "placeholder": "​",
      "style": "IPY_MODEL_cf548125d95d4248afc03342e4f0c588",
      "value": "config.json: 100%"
     }
    },
    "9222a173a8b14d93a62e0cec5fca07f3": {
     "model_module": "@jupyter-widgets/controls",
     "model_module_version": "1.5.0",
     "model_name": "FloatProgressModel",
     "state": {
      "_dom_classes": [],
      "_model_module": "@jupyter-widgets/controls",
      "_model_module_version": "1.5.0",
      "_model_name": "FloatProgressModel",
      "_view_count": null,
      "_view_module": "@jupyter-widgets/controls",
      "_view_module_version": "1.5.0",
      "_view_name": "ProgressView",
      "bar_style": "success",
      "description": "",
      "description_tooltip": null,
      "layout": "IPY_MODEL_7309b84e7ace486ba8f403c21e85d0f0",
      "max": 147,
      "min": 0,
      "orientation": "horizontal",
      "style": "IPY_MODEL_0f794a17547949bcb785691e52944895",
      "value": 147
     }
    },
    "9326ff9b12a84d92af1bfe7751382740": {
     "model_module": "@jupyter-widgets/controls",
     "model_module_version": "1.5.0",
     "model_name": "FloatProgressModel",
     "state": {
      "_dom_classes": [],
      "_model_module": "@jupyter-widgets/controls",
      "_model_module_version": "1.5.0",
      "_model_name": "FloatProgressModel",
      "_view_count": null,
      "_view_module": "@jupyter-widgets/controls",
      "_view_module_version": "1.5.0",
      "_view_name": "ProgressView",
      "bar_style": "success",
      "description": "",
      "description_tooltip": null,
      "layout": "IPY_MODEL_95975e0de1bd45038209e752a7a4581a",
      "max": 1206,
      "min": 0,
      "orientation": "horizontal",
      "style": "IPY_MODEL_31b76d2e43ac478cb0149b68d1003e9c",
      "value": 1206
     }
    },
    "95975e0de1bd45038209e752a7a4581a": {
     "model_module": "@jupyter-widgets/base",
     "model_module_version": "1.2.0",
     "model_name": "LayoutModel",
     "state": {
      "_model_module": "@jupyter-widgets/base",
      "_model_module_version": "1.2.0",
      "_model_name": "LayoutModel",
      "_view_count": null,
      "_view_module": "@jupyter-widgets/base",
      "_view_module_version": "1.2.0",
      "_view_name": "LayoutView",
      "align_content": null,
      "align_items": null,
      "align_self": null,
      "border": null,
      "bottom": null,
      "display": null,
      "flex": null,
      "flex_flow": null,
      "grid_area": null,
      "grid_auto_columns": null,
      "grid_auto_flow": null,
      "grid_auto_rows": null,
      "grid_column": null,
      "grid_gap": null,
      "grid_row": null,
      "grid_template_areas": null,
      "grid_template_columns": null,
      "grid_template_rows": null,
      "height": null,
      "justify_content": null,
      "justify_items": null,
      "left": null,
      "margin": null,
      "max_height": null,
      "max_width": null,
      "min_height": null,
      "min_width": null,
      "object_fit": null,
      "object_position": null,
      "order": null,
      "overflow": null,
      "overflow_x": null,
      "overflow_y": null,
      "padding": null,
      "right": null,
      "top": null,
      "visibility": null,
      "width": null
     }
    },
    "97b2b5696e3746309bee7a4b2303f12c": {
     "model_module": "@jupyter-widgets/controls",
     "model_module_version": "1.5.0",
     "model_name": "DescriptionStyleModel",
     "state": {
      "_model_module": "@jupyter-widgets/controls",
      "_model_module_version": "1.5.0",
      "_model_name": "DescriptionStyleModel",
      "_view_count": null,
      "_view_module": "@jupyter-widgets/base",
      "_view_module_version": "1.2.0",
      "_view_name": "StyleView",
      "description_width": ""
     }
    },
    "9dd6e59d35f040de8f04de18a701f0aa": {
     "model_module": "@jupyter-widgets/controls",
     "model_module_version": "1.5.0",
     "model_name": "HTMLModel",
     "state": {
      "_dom_classes": [],
      "_model_module": "@jupyter-widgets/controls",
      "_model_module_version": "1.5.0",
      "_model_name": "HTMLModel",
      "_view_count": null,
      "_view_module": "@jupyter-widgets/controls",
      "_view_module_version": "1.5.0",
      "_view_name": "HTMLView",
      "description": "",
      "description_tooltip": null,
      "layout": "IPY_MODEL_73a7a9b1e7564ea3865a4a54f60df590",
      "placeholder": "​",
      "style": "IPY_MODEL_ba065278007f4fcd825597bfae24a93e",
      "value": " 792k/792k [00:00&lt;00:00, 11.7MB/s]"
     }
    },
    "a1322f1963344f8b88998a6c6141e660": {
     "model_module": "@jupyter-widgets/controls",
     "model_module_version": "1.5.0",
     "model_name": "DescriptionStyleModel",
     "state": {
      "_model_module": "@jupyter-widgets/controls",
      "_model_module_version": "1.5.0",
      "_model_name": "DescriptionStyleModel",
      "_view_count": null,
      "_view_module": "@jupyter-widgets/base",
      "_view_module_version": "1.2.0",
      "_view_name": "StyleView",
      "description_width": ""
     }
    },
    "a1f701efd59448a99196ca42e1ccbb4a": {
     "model_module": "@jupyter-widgets/controls",
     "model_module_version": "1.5.0",
     "model_name": "HBoxModel",
     "state": {
      "_dom_classes": [],
      "_model_module": "@jupyter-widgets/controls",
      "_model_module_version": "1.5.0",
      "_model_name": "HBoxModel",
      "_view_count": null,
      "_view_module": "@jupyter-widgets/controls",
      "_view_module_version": "1.5.0",
      "_view_name": "HBoxView",
      "box_style": "",
      "children": [
       "IPY_MODEL_cf1ece227b6d490ab50b4589982e249b",
       "IPY_MODEL_f97d9fedb15e4311910ceef69a5776ea",
       "IPY_MODEL_9dd6e59d35f040de8f04de18a701f0aa"
      ],
      "layout": "IPY_MODEL_f61b2cd22e1e4b8a87905477c3bad7da"
     }
    },
    "a6f33305252e45168e0db1a2ece62dac": {
     "model_module": "@jupyter-widgets/controls",
     "model_module_version": "1.5.0",
     "model_name": "FloatProgressModel",
     "state": {
      "_dom_classes": [],
      "_model_module": "@jupyter-widgets/controls",
      "_model_module_version": "1.5.0",
      "_model_name": "FloatProgressModel",
      "_view_count": null,
      "_view_module": "@jupyter-widgets/controls",
      "_view_module_version": "1.5.0",
      "_view_name": "ProgressView",
      "bar_style": "success",
      "description": "",
      "description_tooltip": null,
      "layout": "IPY_MODEL_1bb7b00301f749d6abdc0749d8d29a63",
      "max": 242043056,
      "min": 0,
      "orientation": "horizontal",
      "style": "IPY_MODEL_4ab09560d5694d6586561cbb44f8f56f",
      "value": 242043056
     }
    },
    "ae70ff9721284fb1ac0e51b0b3555626": {
     "model_module": "@jupyter-widgets/controls",
     "model_module_version": "1.5.0",
     "model_name": "DescriptionStyleModel",
     "state": {
      "_model_module": "@jupyter-widgets/controls",
      "_model_module_version": "1.5.0",
      "_model_name": "DescriptionStyleModel",
      "_view_count": null,
      "_view_module": "@jupyter-widgets/base",
      "_view_module_version": "1.2.0",
      "_view_name": "StyleView",
      "description_width": ""
     }
    },
    "af73837bc5c44ea5b2fcc4374ed20063": {
     "model_module": "@jupyter-widgets/base",
     "model_module_version": "1.2.0",
     "model_name": "LayoutModel",
     "state": {
      "_model_module": "@jupyter-widgets/base",
      "_model_module_version": "1.2.0",
      "_model_name": "LayoutModel",
      "_view_count": null,
      "_view_module": "@jupyter-widgets/base",
      "_view_module_version": "1.2.0",
      "_view_name": "LayoutView",
      "align_content": null,
      "align_items": null,
      "align_self": null,
      "border": null,
      "bottom": null,
      "display": null,
      "flex": null,
      "flex_flow": null,
      "grid_area": null,
      "grid_auto_columns": null,
      "grid_auto_flow": null,
      "grid_auto_rows": null,
      "grid_column": null,
      "grid_gap": null,
      "grid_row": null,
      "grid_template_areas": null,
      "grid_template_columns": null,
      "grid_template_rows": null,
      "height": null,
      "justify_content": null,
      "justify_items": null,
      "left": null,
      "margin": null,
      "max_height": null,
      "max_width": null,
      "min_height": null,
      "min_width": null,
      "object_fit": null,
      "object_position": null,
      "order": null,
      "overflow": null,
      "overflow_x": null,
      "overflow_y": null,
      "padding": null,
      "right": null,
      "top": null,
      "visibility": null,
      "width": null
     }
    },
    "afea1a23366e42c5b5d7161f7edd9697": {
     "model_module": "@jupyter-widgets/base",
     "model_module_version": "1.2.0",
     "model_name": "LayoutModel",
     "state": {
      "_model_module": "@jupyter-widgets/base",
      "_model_module_version": "1.2.0",
      "_model_name": "LayoutModel",
      "_view_count": null,
      "_view_module": "@jupyter-widgets/base",
      "_view_module_version": "1.2.0",
      "_view_name": "LayoutView",
      "align_content": null,
      "align_items": null,
      "align_self": null,
      "border": null,
      "bottom": null,
      "display": null,
      "flex": null,
      "flex_flow": null,
      "grid_area": null,
      "grid_auto_columns": null,
      "grid_auto_flow": null,
      "grid_auto_rows": null,
      "grid_column": null,
      "grid_gap": null,
      "grid_row": null,
      "grid_template_areas": null,
      "grid_template_columns": null,
      "grid_template_rows": null,
      "height": null,
      "justify_content": null,
      "justify_items": null,
      "left": null,
      "margin": null,
      "max_height": null,
      "max_width": null,
      "min_height": null,
      "min_width": null,
      "object_fit": null,
      "object_position": null,
      "order": null,
      "overflow": null,
      "overflow_x": null,
      "overflow_y": null,
      "padding": null,
      "right": null,
      "top": null,
      "visibility": null,
      "width": null
     }
    },
    "b7a4a05c0cb541848a30804bd6056a46": {
     "model_module": "@jupyter-widgets/base",
     "model_module_version": "1.2.0",
     "model_name": "LayoutModel",
     "state": {
      "_model_module": "@jupyter-widgets/base",
      "_model_module_version": "1.2.0",
      "_model_name": "LayoutModel",
      "_view_count": null,
      "_view_module": "@jupyter-widgets/base",
      "_view_module_version": "1.2.0",
      "_view_name": "LayoutView",
      "align_content": null,
      "align_items": null,
      "align_self": null,
      "border": null,
      "bottom": null,
      "display": null,
      "flex": null,
      "flex_flow": null,
      "grid_area": null,
      "grid_auto_columns": null,
      "grid_auto_flow": null,
      "grid_auto_rows": null,
      "grid_column": null,
      "grid_gap": null,
      "grid_row": null,
      "grid_template_areas": null,
      "grid_template_columns": null,
      "grid_template_rows": null,
      "height": null,
      "justify_content": null,
      "justify_items": null,
      "left": null,
      "margin": null,
      "max_height": null,
      "max_width": null,
      "min_height": null,
      "min_width": null,
      "object_fit": null,
      "object_position": null,
      "order": null,
      "overflow": null,
      "overflow_x": null,
      "overflow_y": null,
      "padding": null,
      "right": null,
      "top": null,
      "visibility": null,
      "width": null
     }
    },
    "b907e2faaaff449d9572b42c9fb00aa2": {
     "model_module": "@jupyter-widgets/base",
     "model_module_version": "1.2.0",
     "model_name": "LayoutModel",
     "state": {
      "_model_module": "@jupyter-widgets/base",
      "_model_module_version": "1.2.0",
      "_model_name": "LayoutModel",
      "_view_count": null,
      "_view_module": "@jupyter-widgets/base",
      "_view_module_version": "1.2.0",
      "_view_name": "LayoutView",
      "align_content": null,
      "align_items": null,
      "align_self": null,
      "border": null,
      "bottom": null,
      "display": null,
      "flex": null,
      "flex_flow": null,
      "grid_area": null,
      "grid_auto_columns": null,
      "grid_auto_flow": null,
      "grid_auto_rows": null,
      "grid_column": null,
      "grid_gap": null,
      "grid_row": null,
      "grid_template_areas": null,
      "grid_template_columns": null,
      "grid_template_rows": null,
      "height": null,
      "justify_content": null,
      "justify_items": null,
      "left": null,
      "margin": null,
      "max_height": null,
      "max_width": null,
      "min_height": null,
      "min_width": null,
      "object_fit": null,
      "object_position": null,
      "order": null,
      "overflow": null,
      "overflow_x": null,
      "overflow_y": null,
      "padding": null,
      "right": null,
      "top": null,
      "visibility": null,
      "width": null
     }
    },
    "ba065278007f4fcd825597bfae24a93e": {
     "model_module": "@jupyter-widgets/controls",
     "model_module_version": "1.5.0",
     "model_name": "DescriptionStyleModel",
     "state": {
      "_model_module": "@jupyter-widgets/controls",
      "_model_module_version": "1.5.0",
      "_model_name": "DescriptionStyleModel",
      "_view_count": null,
      "_view_module": "@jupyter-widgets/base",
      "_view_module_version": "1.2.0",
      "_view_name": "StyleView",
      "description_width": ""
     }
    },
    "bb01388adc664f05a5d86a60d0b024b8": {
     "model_module": "@jupyter-widgets/controls",
     "model_module_version": "1.5.0",
     "model_name": "HTMLModel",
     "state": {
      "_dom_classes": [],
      "_model_module": "@jupyter-widgets/controls",
      "_model_module_version": "1.5.0",
      "_model_name": "HTMLModel",
      "_view_count": null,
      "_view_module": "@jupyter-widgets/controls",
      "_view_module_version": "1.5.0",
      "_view_name": "HTMLView",
      "description": "",
      "description_tooltip": null,
      "layout": "IPY_MODEL_f56c351c72b841e589e81dc3b688419a",
      "placeholder": "​",
      "style": "IPY_MODEL_ae70ff9721284fb1ac0e51b0b3555626",
      "value": " 242M/242M [00:01&lt;00:00, 152MB/s]"
     }
    },
    "c4b5060aba0147eea590eede176dc567": {
     "model_module": "@jupyter-widgets/controls",
     "model_module_version": "1.5.0",
     "model_name": "ProgressStyleModel",
     "state": {
      "_model_module": "@jupyter-widgets/controls",
      "_model_module_version": "1.5.0",
      "_model_name": "ProgressStyleModel",
      "_view_count": null,
      "_view_module": "@jupyter-widgets/base",
      "_view_module_version": "1.2.0",
      "_view_name": "StyleView",
      "bar_color": null,
      "description_width": ""
     }
    },
    "c9825fd67edd431cbde3234b8e180b4e": {
     "model_module": "@jupyter-widgets/controls",
     "model_module_version": "1.5.0",
     "model_name": "HTMLModel",
     "state": {
      "_dom_classes": [],
      "_model_module": "@jupyter-widgets/controls",
      "_model_module_version": "1.5.0",
      "_model_name": "HTMLModel",
      "_view_count": null,
      "_view_module": "@jupyter-widgets/controls",
      "_view_module_version": "1.5.0",
      "_view_name": "HTMLView",
      "description": "",
      "description_tooltip": null,
      "layout": "IPY_MODEL_e67b1a3668484918b1812d27b4ddc4fb",
      "placeholder": "​",
      "style": "IPY_MODEL_1a75aacd223a45958b85c8d23f901253",
      "value": "tokenizer.json: 100%"
     }
    },
    "cf1ece227b6d490ab50b4589982e249b": {
     "model_module": "@jupyter-widgets/controls",
     "model_module_version": "1.5.0",
     "model_name": "HTMLModel",
     "state": {
      "_dom_classes": [],
      "_model_module": "@jupyter-widgets/controls",
      "_model_module_version": "1.5.0",
      "_model_name": "HTMLModel",
      "_view_count": null,
      "_view_module": "@jupyter-widgets/controls",
      "_view_module_version": "1.5.0",
      "_view_name": "HTMLView",
      "description": "",
      "description_tooltip": null,
      "layout": "IPY_MODEL_469be8e0ab464bc6a2c3639f15912e85",
      "placeholder": "​",
      "style": "IPY_MODEL_97b2b5696e3746309bee7a4b2303f12c",
      "value": "spiece.model: 100%"
     }
    },
    "cf548125d95d4248afc03342e4f0c588": {
     "model_module": "@jupyter-widgets/controls",
     "model_module_version": "1.5.0",
     "model_name": "DescriptionStyleModel",
     "state": {
      "_model_module": "@jupyter-widgets/controls",
      "_model_module_version": "1.5.0",
      "_model_name": "DescriptionStyleModel",
      "_view_count": null,
      "_view_module": "@jupyter-widgets/base",
      "_view_module_version": "1.2.0",
      "_view_name": "StyleView",
      "description_width": ""
     }
    },
    "dda9af6f091b4bf7b0d929eb1f6f8cca": {
     "model_module": "@jupyter-widgets/controls",
     "model_module_version": "1.5.0",
     "model_name": "HTMLModel",
     "state": {
      "_dom_classes": [],
      "_model_module": "@jupyter-widgets/controls",
      "_model_module_version": "1.5.0",
      "_model_name": "HTMLModel",
      "_view_count": null,
      "_view_module": "@jupyter-widgets/controls",
      "_view_module_version": "1.5.0",
      "_view_name": "HTMLView",
      "description": "",
      "description_tooltip": null,
      "layout": "IPY_MODEL_afea1a23366e42c5b5d7161f7edd9697",
      "placeholder": "​",
      "style": "IPY_MODEL_a1322f1963344f8b88998a6c6141e660",
      "value": " 2.32k/2.32k [00:00&lt;00:00, 145kB/s]"
     }
    },
    "e16627181e7b446fbf00fb2b33efc26e": {
     "model_module": "@jupyter-widgets/controls",
     "model_module_version": "1.5.0",
     "model_name": "DescriptionStyleModel",
     "state": {
      "_model_module": "@jupyter-widgets/controls",
      "_model_module_version": "1.5.0",
      "_model_name": "DescriptionStyleModel",
      "_view_count": null,
      "_view_module": "@jupyter-widgets/base",
      "_view_module_version": "1.2.0",
      "_view_name": "StyleView",
      "description_width": ""
     }
    },
    "e5f4526ecd0e46b28b451050b9397bca": {
     "model_module": "@jupyter-widgets/controls",
     "model_module_version": "1.5.0",
     "model_name": "HBoxModel",
     "state": {
      "_dom_classes": [],
      "_model_module": "@jupyter-widgets/controls",
      "_model_module_version": "1.5.0",
      "_model_name": "HBoxModel",
      "_view_count": null,
      "_view_module": "@jupyter-widgets/controls",
      "_view_module_version": "1.5.0",
      "_view_name": "HBoxView",
      "box_style": "",
      "children": [
       "IPY_MODEL_6c4d110841564c458578932d3c7f2c63",
       "IPY_MODEL_9222a173a8b14d93a62e0cec5fca07f3",
       "IPY_MODEL_f4a1bd841e804874ad5700f7d1d9e8d5"
      ],
      "layout": "IPY_MODEL_f22c609b10cf42eab2c558a59a774d2e"
     }
    },
    "e67b1a3668484918b1812d27b4ddc4fb": {
     "model_module": "@jupyter-widgets/base",
     "model_module_version": "1.2.0",
     "model_name": "LayoutModel",
     "state": {
      "_model_module": "@jupyter-widgets/base",
      "_model_module_version": "1.2.0",
      "_model_name": "LayoutModel",
      "_view_count": null,
      "_view_module": "@jupyter-widgets/base",
      "_view_module_version": "1.2.0",
      "_view_name": "LayoutView",
      "align_content": null,
      "align_items": null,
      "align_self": null,
      "border": null,
      "bottom": null,
      "display": null,
      "flex": null,
      "flex_flow": null,
      "grid_area": null,
      "grid_auto_columns": null,
      "grid_auto_flow": null,
      "grid_auto_rows": null,
      "grid_column": null,
      "grid_gap": null,
      "grid_row": null,
      "grid_template_areas": null,
      "grid_template_columns": null,
      "grid_template_rows": null,
      "height": null,
      "justify_content": null,
      "justify_items": null,
      "left": null,
      "margin": null,
      "max_height": null,
      "max_width": null,
      "min_height": null,
      "min_width": null,
      "object_fit": null,
      "object_position": null,
      "order": null,
      "overflow": null,
      "overflow_x": null,
      "overflow_y": null,
      "padding": null,
      "right": null,
      "top": null,
      "visibility": null,
      "width": null
     }
    },
    "e816c40509e344cea4593b543e975c7e": {
     "model_module": "@jupyter-widgets/controls",
     "model_module_version": "1.5.0",
     "model_name": "ProgressStyleModel",
     "state": {
      "_model_module": "@jupyter-widgets/controls",
      "_model_module_version": "1.5.0",
      "_model_name": "ProgressStyleModel",
      "_view_count": null,
      "_view_module": "@jupyter-widgets/base",
      "_view_module_version": "1.2.0",
      "_view_name": "StyleView",
      "bar_color": null,
      "description_width": ""
     }
    },
    "eb6dfe36d8b64588a9f4d9285d70ea0f": {
     "model_module": "@jupyter-widgets/controls",
     "model_module_version": "1.5.0",
     "model_name": "HTMLModel",
     "state": {
      "_dom_classes": [],
      "_model_module": "@jupyter-widgets/controls",
      "_model_module_version": "1.5.0",
      "_model_name": "HTMLModel",
      "_view_count": null,
      "_view_module": "@jupyter-widgets/controls",
      "_view_module_version": "1.5.0",
      "_view_name": "HTMLView",
      "description": "",
      "description_tooltip": null,
      "layout": "IPY_MODEL_237b171c8d21401b8aca7deb1b0c13df",
      "placeholder": "​",
      "style": "IPY_MODEL_76ebd7fb325b42dcaa7d4c9aa81db458",
      "value": "tokenizer_config.json: 100%"
     }
    },
    "ef8c8ee15f724d6ba9b91086ff8b1075": {
     "model_module": "@jupyter-widgets/base",
     "model_module_version": "1.2.0",
     "model_name": "LayoutModel",
     "state": {
      "_model_module": "@jupyter-widgets/base",
      "_model_module_version": "1.2.0",
      "_model_name": "LayoutModel",
      "_view_count": null,
      "_view_module": "@jupyter-widgets/base",
      "_view_module_version": "1.2.0",
      "_view_name": "LayoutView",
      "align_content": null,
      "align_items": null,
      "align_self": null,
      "border": null,
      "bottom": null,
      "display": null,
      "flex": null,
      "flex_flow": null,
      "grid_area": null,
      "grid_auto_columns": null,
      "grid_auto_flow": null,
      "grid_auto_rows": null,
      "grid_column": null,
      "grid_gap": null,
      "grid_row": null,
      "grid_template_areas": null,
      "grid_template_columns": null,
      "grid_template_rows": null,
      "height": null,
      "justify_content": null,
      "justify_items": null,
      "left": null,
      "margin": null,
      "max_height": null,
      "max_width": null,
      "min_height": null,
      "min_width": null,
      "object_fit": null,
      "object_position": null,
      "order": null,
      "overflow": null,
      "overflow_x": null,
      "overflow_y": null,
      "padding": null,
      "right": null,
      "top": null,
      "visibility": null,
      "width": null
     }
    },
    "f22c609b10cf42eab2c558a59a774d2e": {
     "model_module": "@jupyter-widgets/base",
     "model_module_version": "1.2.0",
     "model_name": "LayoutModel",
     "state": {
      "_model_module": "@jupyter-widgets/base",
      "_model_module_version": "1.2.0",
      "_model_name": "LayoutModel",
      "_view_count": null,
      "_view_module": "@jupyter-widgets/base",
      "_view_module_version": "1.2.0",
      "_view_name": "LayoutView",
      "align_content": null,
      "align_items": null,
      "align_self": null,
      "border": null,
      "bottom": null,
      "display": null,
      "flex": null,
      "flex_flow": null,
      "grid_area": null,
      "grid_auto_columns": null,
      "grid_auto_flow": null,
      "grid_auto_rows": null,
      "grid_column": null,
      "grid_gap": null,
      "grid_row": null,
      "grid_template_areas": null,
      "grid_template_columns": null,
      "grid_template_rows": null,
      "height": null,
      "justify_content": null,
      "justify_items": null,
      "left": null,
      "margin": null,
      "max_height": null,
      "max_width": null,
      "min_height": null,
      "min_width": null,
      "object_fit": null,
      "object_position": null,
      "order": null,
      "overflow": null,
      "overflow_x": null,
      "overflow_y": null,
      "padding": null,
      "right": null,
      "top": null,
      "visibility": null,
      "width": null
     }
    },
    "f4a1bd841e804874ad5700f7d1d9e8d5": {
     "model_module": "@jupyter-widgets/controls",
     "model_module_version": "1.5.0",
     "model_name": "HTMLModel",
     "state": {
      "_dom_classes": [],
      "_model_module": "@jupyter-widgets/controls",
      "_model_module_version": "1.5.0",
      "_model_name": "HTMLModel",
      "_view_count": null,
      "_view_module": "@jupyter-widgets/controls",
      "_view_module_version": "1.5.0",
      "_view_name": "HTMLView",
      "description": "",
      "description_tooltip": null,
      "layout": "IPY_MODEL_02eb62f23fbe4f70a11f525d3eb3b41f",
      "placeholder": "​",
      "style": "IPY_MODEL_e16627181e7b446fbf00fb2b33efc26e",
      "value": " 147/147 [00:00&lt;00:00, 12.8kB/s]"
     }
    },
    "f56c351c72b841e589e81dc3b688419a": {
     "model_module": "@jupyter-widgets/base",
     "model_module_version": "1.2.0",
     "model_name": "LayoutModel",
     "state": {
      "_model_module": "@jupyter-widgets/base",
      "_model_module_version": "1.2.0",
      "_model_name": "LayoutModel",
      "_view_count": null,
      "_view_module": "@jupyter-widgets/base",
      "_view_module_version": "1.2.0",
      "_view_name": "LayoutView",
      "align_content": null,
      "align_items": null,
      "align_self": null,
      "border": null,
      "bottom": null,
      "display": null,
      "flex": null,
      "flex_flow": null,
      "grid_area": null,
      "grid_auto_columns": null,
      "grid_auto_flow": null,
      "grid_auto_rows": null,
      "grid_column": null,
      "grid_gap": null,
      "grid_row": null,
      "grid_template_areas": null,
      "grid_template_columns": null,
      "grid_template_rows": null,
      "height": null,
      "justify_content": null,
      "justify_items": null,
      "left": null,
      "margin": null,
      "max_height": null,
      "max_width": null,
      "min_height": null,
      "min_width": null,
      "object_fit": null,
      "object_position": null,
      "order": null,
      "overflow": null,
      "overflow_x": null,
      "overflow_y": null,
      "padding": null,
      "right": null,
      "top": null,
      "visibility": null,
      "width": null
     }
    },
    "f61b2cd22e1e4b8a87905477c3bad7da": {
     "model_module": "@jupyter-widgets/base",
     "model_module_version": "1.2.0",
     "model_name": "LayoutModel",
     "state": {
      "_model_module": "@jupyter-widgets/base",
      "_model_module_version": "1.2.0",
      "_model_name": "LayoutModel",
      "_view_count": null,
      "_view_module": "@jupyter-widgets/base",
      "_view_module_version": "1.2.0",
      "_view_name": "LayoutView",
      "align_content": null,
      "align_items": null,
      "align_self": null,
      "border": null,
      "bottom": null,
      "display": null,
      "flex": null,
      "flex_flow": null,
      "grid_area": null,
      "grid_auto_columns": null,
      "grid_auto_flow": null,
      "grid_auto_rows": null,
      "grid_column": null,
      "grid_gap": null,
      "grid_row": null,
      "grid_template_areas": null,
      "grid_template_columns": null,
      "grid_template_rows": null,
      "height": null,
      "justify_content": null,
      "justify_items": null,
      "left": null,
      "margin": null,
      "max_height": null,
      "max_width": null,
      "min_height": null,
      "min_width": null,
      "object_fit": null,
      "object_position": null,
      "order": null,
      "overflow": null,
      "overflow_x": null,
      "overflow_y": null,
      "padding": null,
      "right": null,
      "top": null,
      "visibility": null,
      "width": null
     }
    },
    "f97d9fedb15e4311910ceef69a5776ea": {
     "model_module": "@jupyter-widgets/controls",
     "model_module_version": "1.5.0",
     "model_name": "FloatProgressModel",
     "state": {
      "_dom_classes": [],
      "_model_module": "@jupyter-widgets/controls",
      "_model_module_version": "1.5.0",
      "_model_name": "FloatProgressModel",
      "_view_count": null,
      "_view_module": "@jupyter-widgets/controls",
      "_view_module_version": "1.5.0",
      "_view_name": "ProgressView",
      "bar_style": "success",
      "description": "",
      "description_tooltip": null,
      "layout": "IPY_MODEL_b907e2faaaff449d9572b42c9fb00aa2",
      "max": 791656,
      "min": 0,
      "orientation": "horizontal",
      "style": "IPY_MODEL_e816c40509e344cea4593b543e975c7e",
      "value": 791656
     }
    },
    "fc8842beb4324f89b4952c33f4a93858": {
     "model_module": "@jupyter-widgets/base",
     "model_module_version": "1.2.0",
     "model_name": "LayoutModel",
     "state": {
      "_model_module": "@jupyter-widgets/base",
      "_model_module_version": "1.2.0",
      "_model_name": "LayoutModel",
      "_view_count": null,
      "_view_module": "@jupyter-widgets/base",
      "_view_module_version": "1.2.0",
      "_view_name": "LayoutView",
      "align_content": null,
      "align_items": null,
      "align_self": null,
      "border": null,
      "bottom": null,
      "display": null,
      "flex": null,
      "flex_flow": null,
      "grid_area": null,
      "grid_auto_columns": null,
      "grid_auto_flow": null,
      "grid_auto_rows": null,
      "grid_column": null,
      "grid_gap": null,
      "grid_row": null,
      "grid_template_areas": null,
      "grid_template_columns": null,
      "grid_template_rows": null,
      "height": null,
      "justify_content": null,
      "justify_items": null,
      "left": null,
      "margin": null,
      "max_height": null,
      "max_width": null,
      "min_height": null,
      "min_width": null,
      "object_fit": null,
      "object_position": null,
      "order": null,
      "overflow": null,
      "overflow_x": null,
      "overflow_y": null,
      "padding": null,
      "right": null,
      "top": null,
      "visibility": null,
      "width": null
     }
    }
   }
  }
 },
 "nbformat": 4,
 "nbformat_minor": 5
}
