{
 "cells": [
  {
   "cell_type": "code",
   "execution_count": 1,
   "id": "51d61db5-d3f9-4dd4-b6ab-e7c801e2f92f",
   "metadata": {},
   "outputs": [
    {
     "name": "stdout",
     "output_type": "stream",
     "text": [
      "Data loaded successfully!\n"
     ]
    }
   ],
   "source": [
    "import os\n",
    "import pandas as pd\n",
    "\n",
    "# Define the folder path\n",
    "# folder_path = 'C:/MS_AAI/CornellMovie/' #Anand data path file\n",
    "folder_path = 'C:/Users/Saad/Desktop/Saad Learnings/Python/School Python/Natural Language Processing/Project/CornellMovie/' #Saad data path file\n",
    "\n",
    "# Initialize a dictionary to store file content\n",
    "data = {}\n",
    "\n",
    "# Loop through each file in the directory\n",
    "for file_name in os.listdir(folder_path):\n",
    "    if file_name.endswith('.txt'):\n",
    "        file_path = os.path.join(folder_path, file_name)\n",
    "        with open(file_path, 'r', encoding='utf-8', errors='replace') as file:\n",
    "            content = file.readlines()  # Read each line\n",
    "        data[file_name] = content\n",
    "\n",
    "df = pd.DataFrame(dict([(k, pd.Series(v)) for k, v in data.items()]))\n",
    "\n",
    "# Load completed\n",
    "# Load completed\n",
    "print(\"Data loaded successfully!\")\n",
    "#print(df.head())"
   ]
  },
  {
   "cell_type": "code",
   "execution_count": 3,
   "id": "f7572640-f552-4870-a7cd-421ad09986b3",
   "metadata": {},
   "outputs": [
    {
     "name": "stdout",
     "output_type": "stream",
     "text": [
      "1. Basic Information:\n",
      "Number of rows: 304713\n",
      "Number of columns: 6\n",
      "\n",
      "2. Data Types:\n",
      "movie_characters_metadata.txt    object\n",
      "movie_conversations.txt          object\n",
      "movie_lines.txt                  object\n",
      "movie_titles_metadata.txt        object\n",
      "raw_script_urls.txt              object\n",
      "README.txt                       object\n",
      "dtype: object\n",
      "\n",
      "3. Missing Values:\n",
      "movie_characters_metadata.txt    295678\n",
      "movie_conversations.txt          221616\n",
      "movie_lines.txt                       0\n",
      "movie_titles_metadata.txt        304096\n",
      "raw_script_urls.txt              304096\n",
      "README.txt                       304600\n",
      "dtype: int64\n",
      "\n",
      "4. Descriptive Statistics:\n"
     ]
    },
    {
     "data": {
      "text/html": [
       "<div>\n",
       "<style scoped>\n",
       "    .dataframe tbody tr th:only-of-type {\n",
       "        vertical-align: middle;\n",
       "    }\n",
       "\n",
       "    .dataframe tbody tr th {\n",
       "        vertical-align: top;\n",
       "    }\n",
       "\n",
       "    .dataframe thead th {\n",
       "        text-align: right;\n",
       "    }\n",
       "</style>\n",
       "<table border=\"1\" class=\"dataframe\">\n",
       "  <thead>\n",
       "    <tr style=\"text-align: right;\">\n",
       "      <th></th>\n",
       "      <th>count</th>\n",
       "      <th>unique</th>\n",
       "      <th>top</th>\n",
       "      <th>freq</th>\n",
       "    </tr>\n",
       "  </thead>\n",
       "  <tbody>\n",
       "    <tr>\n",
       "      <th>movie_characters_metadata.txt</th>\n",
       "      <td>9035</td>\n",
       "      <td>9035</td>\n",
       "      <td>u0 +++$+++ BIANCA +++$+++ m0 +++$+++ 10 things...</td>\n",
       "      <td>1</td>\n",
       "    </tr>\n",
       "    <tr>\n",
       "      <th>movie_conversations.txt</th>\n",
       "      <td>83097</td>\n",
       "      <td>83097</td>\n",
       "      <td>u0 +++$+++ u2 +++$+++ m0 +++$+++ ['L194', 'L19...</td>\n",
       "      <td>1</td>\n",
       "    </tr>\n",
       "    <tr>\n",
       "      <th>movie_lines.txt</th>\n",
       "      <td>304713</td>\n",
       "      <td>304713</td>\n",
       "      <td>L1045 +++$+++ u0 +++$+++ m0 +++$+++ BIANCA +++...</td>\n",
       "      <td>1</td>\n",
       "    </tr>\n",
       "    <tr>\n",
       "      <th>movie_titles_metadata.txt</th>\n",
       "      <td>617</td>\n",
       "      <td>617</td>\n",
       "      <td>m0 +++$+++ 10 things i hate about you +++$+++ ...</td>\n",
       "      <td>1</td>\n",
       "    </tr>\n",
       "    <tr>\n",
       "      <th>raw_script_urls.txt</th>\n",
       "      <td>617</td>\n",
       "      <td>617</td>\n",
       "      <td>m0 +++$+++ 10 things i hate about you +++$+++ ...</td>\n",
       "      <td>1</td>\n",
       "    </tr>\n",
       "    <tr>\n",
       "      <th>README.txt</th>\n",
       "      <td>113</td>\n",
       "      <td>85</td>\n",
       "      <td>\\n</td>\n",
       "      <td>25</td>\n",
       "    </tr>\n",
       "  </tbody>\n",
       "</table>\n",
       "</div>"
      ],
      "text/plain": [
       "                                count  unique  \\\n",
       "movie_characters_metadata.txt    9035    9035   \n",
       "movie_conversations.txt         83097   83097   \n",
       "movie_lines.txt                304713  304713   \n",
       "movie_titles_metadata.txt         617     617   \n",
       "raw_script_urls.txt               617     617   \n",
       "README.txt                        113      85   \n",
       "\n",
       "                                                                             top  \\\n",
       "movie_characters_metadata.txt  u0 +++$+++ BIANCA +++$+++ m0 +++$+++ 10 things...   \n",
       "movie_conversations.txt        u0 +++$+++ u2 +++$+++ m0 +++$+++ ['L194', 'L19...   \n",
       "movie_lines.txt                L1045 +++$+++ u0 +++$+++ m0 +++$+++ BIANCA +++...   \n",
       "movie_titles_metadata.txt      m0 +++$+++ 10 things i hate about you +++$+++ ...   \n",
       "raw_script_urls.txt            m0 +++$+++ 10 things i hate about you +++$+++ ...   \n",
       "README.txt                                                                    \\n   \n",
       "\n",
       "                              freq  \n",
       "movie_characters_metadata.txt    1  \n",
       "movie_conversations.txt          1  \n",
       "movie_lines.txt                  1  \n",
       "movie_titles_metadata.txt        1  \n",
       "raw_script_urls.txt              1  \n",
       "README.txt                      25  "
      ]
     },
     "metadata": {},
     "output_type": "display_data"
    },
    {
     "name": "stdout",
     "output_type": "stream",
     "text": [
      "\n",
      "5. Sample Data (first 5 rows):\n"
     ]
    },
    {
     "data": {
      "text/html": [
       "<div>\n",
       "<style scoped>\n",
       "    .dataframe tbody tr th:only-of-type {\n",
       "        vertical-align: middle;\n",
       "    }\n",
       "\n",
       "    .dataframe tbody tr th {\n",
       "        vertical-align: top;\n",
       "    }\n",
       "\n",
       "    .dataframe thead th {\n",
       "        text-align: right;\n",
       "    }\n",
       "</style>\n",
       "<table border=\"1\" class=\"dataframe\">\n",
       "  <thead>\n",
       "    <tr style=\"text-align: right;\">\n",
       "      <th></th>\n",
       "      <th>movie_characters_metadata.txt</th>\n",
       "      <th>movie_conversations.txt</th>\n",
       "      <th>movie_lines.txt</th>\n",
       "      <th>movie_titles_metadata.txt</th>\n",
       "      <th>raw_script_urls.txt</th>\n",
       "      <th>README.txt</th>\n",
       "    </tr>\n",
       "  </thead>\n",
       "  <tbody>\n",
       "    <tr>\n",
       "      <th>0</th>\n",
       "      <td>u0 +++$+++ BIANCA +++$+++ m0 +++$+++ 10 things...</td>\n",
       "      <td>u0 +++$+++ u2 +++$+++ m0 +++$+++ ['L194', 'L19...</td>\n",
       "      <td>L1045 +++$+++ u0 +++$+++ m0 +++$+++ BIANCA +++...</td>\n",
       "      <td>m0 +++$+++ 10 things i hate about you +++$+++ ...</td>\n",
       "      <td>m0 +++$+++ 10 things i hate about you +++$+++ ...</td>\n",
       "      <td>Cornell Movie-Dialogs Corpus\\n</td>\n",
       "    </tr>\n",
       "    <tr>\n",
       "      <th>1</th>\n",
       "      <td>u1 +++$+++ BRUCE +++$+++ m0 +++$+++ 10 things ...</td>\n",
       "      <td>u0 +++$+++ u2 +++$+++ m0 +++$+++ ['L198', 'L19...</td>\n",
       "      <td>L1044 +++$+++ u2 +++$+++ m0 +++$+++ CAMERON ++...</td>\n",
       "      <td>m1 +++$+++ 1492: conquest of paradise +++$+++ ...</td>\n",
       "      <td>m1 +++$+++ 1492: conquest of paradise +++$+++ ...</td>\n",
       "      <td>\\n</td>\n",
       "    </tr>\n",
       "    <tr>\n",
       "      <th>2</th>\n",
       "      <td>u2 +++$+++ CAMERON +++$+++ m0 +++$+++ 10 thing...</td>\n",
       "      <td>u0 +++$+++ u2 +++$+++ m0 +++$+++ ['L200', 'L20...</td>\n",
       "      <td>L985 +++$+++ u0 +++$+++ m0 +++$+++ BIANCA +++$...</td>\n",
       "      <td>m2 +++$+++ 15 minutes +++$+++ 2001 +++$+++ 6.1...</td>\n",
       "      <td>m2 +++$+++ 15 minutes +++$+++ http://www.daily...</td>\n",
       "      <td>Distributed together with:\\n</td>\n",
       "    </tr>\n",
       "    <tr>\n",
       "      <th>3</th>\n",
       "      <td>u3 +++$+++ CHASTITY +++$+++ m0 +++$+++ 10 thin...</td>\n",
       "      <td>u0 +++$+++ u2 +++$+++ m0 +++$+++ ['L204', 'L20...</td>\n",
       "      <td>L984 +++$+++ u2 +++$+++ m0 +++$+++ CAMERON +++...</td>\n",
       "      <td>m3 +++$+++ 2001: a space odyssey +++$+++ 1968 ...</td>\n",
       "      <td>m3 +++$+++ 2001: a space odyssey +++$+++ http:...</td>\n",
       "      <td>\\n</td>\n",
       "    </tr>\n",
       "    <tr>\n",
       "      <th>4</th>\n",
       "      <td>u4 +++$+++ JOEY +++$+++ m0 +++$+++ 10 things i...</td>\n",
       "      <td>u0 +++$+++ u2 +++$+++ m0 +++$+++ ['L207', 'L20...</td>\n",
       "      <td>L925 +++$+++ u0 +++$+++ m0 +++$+++ BIANCA +++$...</td>\n",
       "      <td>m4 +++$+++ 48 hrs. +++$+++ 1982 +++$+++ 6.90 +...</td>\n",
       "      <td>m4 +++$+++ 48 hrs. +++$+++ http://www.awesomef...</td>\n",
       "      <td>\"Chameleons in imagined conversations: A new a...</td>\n",
       "    </tr>\n",
       "  </tbody>\n",
       "</table>\n",
       "</div>"
      ],
      "text/plain": [
       "                       movie_characters_metadata.txt  \\\n",
       "0  u0 +++$+++ BIANCA +++$+++ m0 +++$+++ 10 things...   \n",
       "1  u1 +++$+++ BRUCE +++$+++ m0 +++$+++ 10 things ...   \n",
       "2  u2 +++$+++ CAMERON +++$+++ m0 +++$+++ 10 thing...   \n",
       "3  u3 +++$+++ CHASTITY +++$+++ m0 +++$+++ 10 thin...   \n",
       "4  u4 +++$+++ JOEY +++$+++ m0 +++$+++ 10 things i...   \n",
       "\n",
       "                             movie_conversations.txt  \\\n",
       "0  u0 +++$+++ u2 +++$+++ m0 +++$+++ ['L194', 'L19...   \n",
       "1  u0 +++$+++ u2 +++$+++ m0 +++$+++ ['L198', 'L19...   \n",
       "2  u0 +++$+++ u2 +++$+++ m0 +++$+++ ['L200', 'L20...   \n",
       "3  u0 +++$+++ u2 +++$+++ m0 +++$+++ ['L204', 'L20...   \n",
       "4  u0 +++$+++ u2 +++$+++ m0 +++$+++ ['L207', 'L20...   \n",
       "\n",
       "                                     movie_lines.txt  \\\n",
       "0  L1045 +++$+++ u0 +++$+++ m0 +++$+++ BIANCA +++...   \n",
       "1  L1044 +++$+++ u2 +++$+++ m0 +++$+++ CAMERON ++...   \n",
       "2  L985 +++$+++ u0 +++$+++ m0 +++$+++ BIANCA +++$...   \n",
       "3  L984 +++$+++ u2 +++$+++ m0 +++$+++ CAMERON +++...   \n",
       "4  L925 +++$+++ u0 +++$+++ m0 +++$+++ BIANCA +++$...   \n",
       "\n",
       "                           movie_titles_metadata.txt  \\\n",
       "0  m0 +++$+++ 10 things i hate about you +++$+++ ...   \n",
       "1  m1 +++$+++ 1492: conquest of paradise +++$+++ ...   \n",
       "2  m2 +++$+++ 15 minutes +++$+++ 2001 +++$+++ 6.1...   \n",
       "3  m3 +++$+++ 2001: a space odyssey +++$+++ 1968 ...   \n",
       "4  m4 +++$+++ 48 hrs. +++$+++ 1982 +++$+++ 6.90 +...   \n",
       "\n",
       "                                 raw_script_urls.txt  \\\n",
       "0  m0 +++$+++ 10 things i hate about you +++$+++ ...   \n",
       "1  m1 +++$+++ 1492: conquest of paradise +++$+++ ...   \n",
       "2  m2 +++$+++ 15 minutes +++$+++ http://www.daily...   \n",
       "3  m3 +++$+++ 2001: a space odyssey +++$+++ http:...   \n",
       "4  m4 +++$+++ 48 hrs. +++$+++ http://www.awesomef...   \n",
       "\n",
       "                                          README.txt  \n",
       "0                     Cornell Movie-Dialogs Corpus\\n  \n",
       "1                                                 \\n  \n",
       "2                       Distributed together with:\\n  \n",
       "3                                                 \\n  \n",
       "4  \"Chameleons in imagined conversations: A new a...  "
      ]
     },
     "metadata": {},
     "output_type": "display_data"
    }
   ],
   "source": [
    "print(\"1. Basic Information:\")\n",
    "print(f\"Number of rows: {df.shape[0]}\")\n",
    "print(f\"Number of columns: {df.shape[1]}\")\n",
    "print(\"\\n2. Data Types:\")\n",
    "print(df.dtypes)\n",
    "print(\"\\n3. Missing Values:\")\n",
    "print(df.isnull().sum())\n",
    "print(\"\\n4. Descriptive Statistics:\")\n",
    "display(df.describe().T)\n",
    "print(\"\\n5. Sample Data (first 5 rows):\")\n",
    "display(df.head())"
   ]
  },
  {
   "cell_type": "markdown",
   "id": "4ed2889a-b65a-49b5-b41c-87ca6182bebb",
   "metadata": {},
   "source": [
    "#### Cleaning the code"
   ]
  },
  {
   "cell_type": "code",
   "execution_count": 6,
   "id": "738b39c9-b079-4d30-a880-ac8dc9835502",
   "metadata": {},
   "outputs": [],
   "source": [
    "import re\n",
    "import matplotlib.pyplot as plt\n",
    "from collections import Counter"
   ]
  },
  {
   "cell_type": "code",
   "execution_count": 8,
   "id": "b6ee5b80-1a53-4d32-9f83-0b2362c3f8f0",
   "metadata": {},
   "outputs": [],
   "source": [
    "# Focusing on Loading movie_lines.txt and movie_conversations.txt where we will parse the files\n",
    "lines_file = 'C:/Users/Saad/Desktop/Saad Learnings/Python/School Python/Natural Language Processing/Project/CornellMovie/movie_lines.txt'  #Saad data path file\n",
    "conversations_file = 'C:/Users/Saad/Desktop/Saad Learnings/Python/School Python/Natural Language Processing/Project/CornellMovie/movie_conversations.txt' #Saad data path file"
   ]
  },
  {
   "cell_type": "code",
   "execution_count": 10,
   "id": "8127e366-a378-44b6-9355-eab276b9f2d0",
   "metadata": {},
   "outputs": [],
   "source": [
    "def parse_lines(lines_file):# Parse movie_lines.txt to get line IDs and text\n",
    "    lines = {}\n",
    "    with open(lines_file, 'r', encoding='utf-8', errors='replace') as f:\n",
    "        for line in f:\n",
    "            parts = line.split(\" +++$+++ \")\n",
    "            if len(parts) == 5:\n",
    "                line_id = parts[0]\n",
    "                text = parts[4].strip()\n",
    "                lines[line_id] = text\n",
    "    return lines"
   ]
  },
  {
   "cell_type": "code",
   "execution_count": 12,
   "id": "471e24aa-0b1a-4b13-9d09-c3a4a4417f1d",
   "metadata": {},
   "outputs": [],
   "source": [
    "def parse_conversations(conversations_file): # This parse movie_conversations.txt to get conversation pairs\n",
    "    conversations = []\n",
    "    with open(conversations_file, 'r', encoding='utf-8', errors='replace') as f:\n",
    "        for line in f:\n",
    "            parts = line.split(\" +++$+++ \")\n",
    "            if len(parts) == 4:\n",
    "                line_ids = eval(parts[3])  # This is a list of line IDs\n",
    "                conversations.append(line_ids)\n",
    "    return conversations"
   ]
  },
  {
   "cell_type": "code",
   "execution_count": 14,
   "id": "f77018c4-d584-4650-a6c8-75feb0199b40",
   "metadata": {},
   "outputs": [],
   "source": [
    "def create_dialog_pairs(conversations, lines): # Created dialog pairs which it forms pairs of dialog lines that represent conversational exchanges between characters\n",
    "    dialog_pairs = [] # \n",
    "    for conver in conversations: # Loop for the dialog pairs \n",
    "        for i in range(len(conver) - 1):\n",
    "            input_line = lines.get(conver[i], \"\")\n",
    "            target_line = lines.get(conver[i + 1], \"\")\n",
    "            if input_line and target_line:\n",
    "                dialog_pairs.append((input_line, target_line))\n",
    "    return dialog_pairs"
   ]
  },
  {
   "cell_type": "code",
   "execution_count": 16,
   "id": "64d0bc37-9f4c-4d0b-bbd4-cb48444a581c",
   "metadata": {},
   "outputs": [],
   "source": [
    "lines = parse_lines(lines_file) # Calling the functions \n",
    "conversations = parse_conversations(conversations_file)\n",
    "dialog_pairs = create_dialog_pairs(conversations, lines) # For dialog pairs (input-response pairs)"
   ]
  },
  {
   "cell_type": "code",
   "execution_count": 18,
   "id": "9516311d-79e1-489e-92aa-e3d6a0159c18",
   "metadata": {},
   "outputs": [],
   "source": [
    "cleaned_dialog_df = pd.DataFrame(dialog_pairs, columns=['input', 'response']) # Dialog pairs into DataFrame for easier manipulation"
   ]
  },
  {
   "cell_type": "code",
   "execution_count": 20,
   "id": "d4b9bd50-c0b6-4945-b06f-bdd622456805",
   "metadata": {},
   "outputs": [
    {
     "name": "stdout",
     "output_type": "stream",
     "text": [
      "                                               input  \\\n",
      "0  Can we make this quick?  Roxanne Korrine and A...   \n",
      "1  Well, I thought we'd start with pronunciation,...   \n",
      "2  Not the hacking and gagging and spitting part....   \n",
      "3  You're asking me out.  That's so cute. What's ...   \n",
      "4  No, no, it's my fault -- we didn't have a prop...   \n",
      "\n",
      "                                            response  \n",
      "0  Well, I thought we'd start with pronunciation,...  \n",
      "1  Not the hacking and gagging and spitting part....  \n",
      "2  Okay... then how 'bout we try out some French ...  \n",
      "3                                         Forget it.  \n",
      "4                                           Cameron.  \n"
     ]
    }
   ],
   "source": [
    "print(cleaned_dialog_df.head())# Display some response on a small sample of the cleaned dialog pairs "
   ]
  },
  {
   "cell_type": "code",
   "execution_count": 22,
   "id": "70a6a24d-7028-4644-a2ce-aa3371854c68",
   "metadata": {},
   "outputs": [
    {
     "data": {
      "image/png": "[encoded data removed]",
      "text/plain": [
       "<Figure size 1000x600 with 1 Axes>"
      ]
     },
     "metadata": {},
     "output_type": "display_data"
    }
   ],
   "source": [
    "# Displaying Line length distribution\n",
    "cleaned_dialog_df['input_length'] = cleaned_dialog_df['input'].apply(lambda x: len(x.split()))\n",
    "cleaned_dialog_df['response_length'] = cleaned_dialog_df['response'].apply(lambda x: len(x.split()))\n",
    "\n",
    "plt.figure(figsize=(10, 6))\n",
    "plt.hist(cleaned_dialog_df['input_length'], bins=30, alpha=0.7, label='Input Line Length')\n",
    "plt.hist(cleaned_dialog_df['response_length'], bins=30, alpha=0.7, label='Response Line Length')\n",
    "plt.title('Distribution of Line Lengths (Input vs. Response)')\n",
    "plt.xlabel('Line Length (Number of Words)')\n",
    "plt.xlim(0,150)\n",
    "plt.ylabel('Frequency')\n",
    "plt.legend()\n",
    "plt.show()"
   ]
  },
  {
   "cell_type": "code",
   "execution_count": 24,
   "id": "1bece27e-bda1-4f48-be2b-21361c2e0ffd",
   "metadata": {},
   "outputs": [
    {
     "data": {
      "image/png": "[encoded data removed]",
      "text/plain": [
       "<Figure size 1000x600 with 1 Axes>"
      ]
     },
     "metadata": {},
     "output_type": "display_data"
    }
   ],
   "source": [
    "# For visialization of the most common words used\n",
    "all_words = ' '.join(cleaned_dialog_df['input'].tolist() + cleaned_dialog_df['response'].tolist()).split()\n",
    "word_counts = Counter(all_words) # Most common words in the cleaned dialog pairs\n",
    "\n",
    "# Top 20 most common words\n",
    "common_words = word_counts.most_common(20)\n",
    "words, counts = zip(*common_words)\n",
    "\n",
    "plt.figure(figsize=(10, 6))\n",
    "plt.bar(words, counts)\n",
    "plt.title('Top 20 Most Common Words')\n",
    "plt.ylabel('Frequency')\n",
    "plt.xticks(rotation=45)\n",
    "plt.show()"
   ]
  },
  {
   "cell_type": "code",
   "execution_count": null,
   "id": "a6f72127-6f85-4ea9-8721-2a0098488fba",
   "metadata": {},
   "outputs": [],
   "source": []
  }
 ],
 "metadata": {
  "kernelspec": {
   "display_name": "Python 3 (ipykernel)",
   "language": "python",
   "name": "python3"
  },
  "language_info": {
   "codemirror_mode": {
    "name": "ipython",
    "version": 3
   },
   "file_extension": ".py",
   "mimetype": "text/x-python",
   "name": "python",
   "nbconvert_exporter": "python",
   "pygments_lexer": "ipython3",
   "version": "3.12.4"
  }
 },
 "nbformat": 4,
 "nbformat_minor": 5
}
